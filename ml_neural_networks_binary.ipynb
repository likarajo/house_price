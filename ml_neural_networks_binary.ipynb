{
  "nbformat": 4,
  "nbformat_minor": 0,
  "metadata": {
    "colab": {
      "name": "ml_neural-networks_binary.ipynb",
      "provenance": [],
      "collapsed_sections": []
    },
    "kernelspec": {
      "name": "python3",
      "display_name": "Python 3"
    },
    "accelerator": "GPU"
  },
  "cells": [
    {
      "cell_type": "markdown",
      "metadata": {
        "id": "XGj0PNaJlubZ"
      },
      "source": [
        "# Neural Network: Binary Classification"
      ]
    },
    {
      "cell_type": "markdown",
      "metadata": {
        "id": "xchnxAsaKKqO"
      },
      "source": [
        "## Import relevant modules"
      ]
    },
    {
      "cell_type": "code",
      "metadata": {
        "id": "9n9_cTveKmse",
        "colab": {
          "base_uri": "https://localhost:8080/"
        },
        "outputId": "977b6757-bfc3-427c-b630-9af666d2a3d0"
      },
      "source": [
        "from __future__ import absolute_import, division, print_function, unicode_literals\n",
        "\n",
        "import numpy as np\n",
        "\n",
        "import pandas as pd\n",
        "pd.options.display.max_rows = 10\n",
        "pd.options.display.float_format = \"{:.1f}\".format\n",
        "\n",
        "%tensorflow_version 2.x\n",
        "import tensorflow as tf\n",
        "from tensorflow.keras import layers\n",
        "\n",
        "from matplotlib import pyplot as plt\n",
        "import seaborn as sns\n",
        "\n",
        "print(\"Imported modules.\")"
      ],
      "execution_count": null,
      "outputs": [
        {
          "output_type": "stream",
          "text": [
            "Imported modules.\n"
          ],
          "name": "stdout"
        }
      ]
    },
    {
      "cell_type": "markdown",
      "metadata": {
        "id": "X_TaJhU4KcuY"
      },
      "source": [
        "## Get Data\n",
        "\n",
        "[California Housing Dataset](https://developers.google.com/machine-learning/crash-course/california-housing-data-description).\n",
        "\n",
        "* `train_df`, which contains the training set\n",
        "* `test_df`, which contains the test set\n",
        "   "
      ]
    },
    {
      "cell_type": "code",
      "metadata": {
        "id": "JZlvdpyYKx7V",
        "colab": {
          "base_uri": "https://localhost:8080/"
        },
        "outputId": "c6f9754a-34e5-4ea1-be87-a368e575ecf8"
      },
      "source": [
        "train_df = pd.read_csv(\"https://download.mlcc.google.com/mledu-datasets/california_housing_train.csv\")\n",
        "print(train_df.shape)\n",
        "\n",
        "test_df = pd.read_csv(\"https://download.mlcc.google.com/mledu-datasets/california_housing_test.csv\")\n",
        "print(test_df.shape)"
      ],
      "execution_count": null,
      "outputs": [
        {
          "output_type": "stream",
          "text": [
            "(17000, 9)\n",
            "(3000, 9)\n"
          ],
          "name": "stdout"
        }
      ]
    },
    {
      "cell_type": "markdown",
      "metadata": {
        "id": "8ldP-5z1B2vL"
      },
      "source": [
        "## Preprocess the Data\n",
        "\n",
        "* **Shuffle** the training data\n",
        "* **Normalize** the data using z-value"
      ]
    },
    {
      "cell_type": "code",
      "metadata": {
        "id": "g8HC-TDgB1D1",
        "colab": {
          "base_uri": "https://localhost:8080/"
        },
        "outputId": "d194ff25-e786-4dab-db60-8b72dd6a6719"
      },
      "source": [
        "# Shuffle the training examples\n",
        "train_df = train_df.reindex(np.random.permutation(train_df.index)) \n",
        "\n",
        "# Normalize the data\n",
        "train_df_norm = (train_df - train_df.mean())/train_df.std()\n",
        "test_df_norm = (test_df - test_df.mean())/test_df.std()\n",
        "\n",
        "print(\"Preprocessed the data.\")"
      ],
      "execution_count": null,
      "outputs": [
        {
          "output_type": "stream",
          "text": [
            "Preprocessed the data.\n"
          ],
          "name": "stdout"
        }
      ]
    },
    {
      "cell_type": "markdown",
      "metadata": {
        "id": "b9ehCgIRjTxy"
      },
      "source": [
        "## Feature Representation\n",
        "\n",
        "Features layer:\n",
        "* `latitude` x `longitude` *feature cross*\n",
        "* `median_income`\n",
        "* `population`\n",
        "\n",
        "Note: The transformations (collected in `feature_layer`) don't actually get applied until you pass a DataFrame to it, which will happen when we train the model. "
      ]
    },
    {
      "cell_type": "code",
      "metadata": {
        "id": "8EkNAQhnjSu-"
      },
      "source": [
        "# To Floating point\n",
        "latitude_numeric = tf.feature_column.numeric_column(\"latitude\")\n",
        "longitude_numeric = tf.feature_column.numeric_column(\"longitude\")\n",
        "median_income = tf.feature_column.numeric_column(\"median_income\")\n",
        "population = tf.feature_column.numeric_column(\"population\")\n",
        "\n",
        "# To buckets: latitude and longitude\n",
        "resolution = 0.3\n",
        "latitude_boundaries = list(np.arange(int(min(train_df_norm['latitude'])),int(max(train_df_norm['latitude'])), resolution))\n",
        "longitude_boundaries = list(np.arange(int(min(train_df_norm['longitude'])), int(max(train_df_norm['longitude'])), resolution))\n",
        "latitude = tf.feature_column.bucketized_column(latitude_numeric, latitude_boundaries)\n",
        "longitude = tf.feature_column.bucketized_column(longitude_numeric, longitude_boundaries)\n",
        "\n",
        "# Feature cross: latitude and longitude\n",
        "latitude_x_longitude = tf.feature_column.crossed_column([latitude, longitude], hash_bucket_size=100)\n",
        "crossed_lat_long = tf.feature_column.indicator_column(latitude_x_longitude)\n",
        "\n",
        "# Create Feature layer to be fed to the NN\n",
        "feature_columns = []\n",
        "feature_columns.append(crossed_lat_long)  \n",
        "feature_columns.append(median_income)\n",
        "feature_columns.append(population)\n",
        "feature_layer = tf.keras.layers.DenseFeatures(feature_columns)"
      ],
      "execution_count": null,
      "outputs": []
    },
    {
      "cell_type": "markdown",
      "metadata": {
        "id": "zvDSdYmB3Zdc"
      },
      "source": [
        "## Create Plotting Function\n",
        "* `plot_curve`: plot the loss per epoch"
      ]
    },
    {
      "cell_type": "code",
      "metadata": {
        "id": "QF0BFRXTOeR3"
      },
      "source": [
        "def plot_curve(epochs, mse):\n",
        "  plt.figure()\n",
        "  plt.xlabel(\"Epoch\")\n",
        "  plt.ylabel(\"Mean Squared Error\")\n",
        "  plt.plot(epochs, mse, label=\"Loss\")\n",
        "  plt.legend()\n",
        "  plt.ylim([mse.min()*0.95, mse.max() * 1.03])\n",
        "  plt.show()"
      ],
      "execution_count": null,
      "outputs": []
    },
    {
      "cell_type": "markdown",
      "metadata": {
        "id": "BAfyXDS7492p"
      },
      "source": [
        "## Task 1: Simple Linear Regression model"
      ]
    },
    {
      "cell_type": "code",
      "metadata": {
        "id": "tsfE4ujDL4ju",
        "colab": {
          "base_uri": "https://localhost:8080/",
          "height": 945
        },
        "outputId": "b72a140f-8233-4ff0-93fb-b3081e247977"
      },
      "source": [
        "def create_model(lr, feature_layer):\n",
        "  model = tf.keras.models.Sequential() # sequential model\n",
        "  model.add(feature_layer) # feature layer\n",
        "  model.add(tf.keras.layers.Dense(units=1, input_shape=(1,))) # linear regressor\n",
        "  model.compile(\n",
        "      loss=\"mean_squared_error\",\n",
        "      metrics=[tf.keras.metrics.MeanSquaredError()],\n",
        "      optimizer=tf.keras.optimizers.RMSprop(lr=lr)\n",
        "  )\n",
        "  return model           \n",
        "\n",
        "def train_model(model, dataset, epochs, batch_size, label_name):\n",
        "  # Define features and label in dataset\n",
        "  features = {name:np.array(value) for name, value in dataset.items()}\n",
        "  label = np.array(features.pop(label_name))\n",
        "  # Train the model\n",
        "  history = model.fit(x=features, y=label, batch_size=batch_size, epochs=epochs, shuffle=True)\n",
        "  # Get details for plotting the loss curve.\n",
        "  epochs = history.epoch\n",
        "  hist = pd.DataFrame(history.history)\n",
        "  rmse = hist[\"mean_squared_error\"]\n",
        "  return epochs, rmse\n",
        "\n",
        "# Set the hyperparameters\n",
        "learning_rate = 0.01\n",
        "epochs = 15\n",
        "batch_size = 1000\n",
        "label_name = \"median_house_value\"\n",
        "\n",
        "# Establish the model's topography\n",
        "my_model = create_model(learning_rate, feature_layer)\n",
        "\n",
        "# Train the model on the normalized training set\n",
        "epochs, mse = train_model(my_model, train_df_norm, epochs, batch_size, label_name)\n",
        "plot_curve(epochs, mse)\n",
        "\n",
        "# Evaluate the model on normalized test set\n",
        "test_features = {name:np.array(value) for name, value in test_df_norm.items()} # get features\n",
        "test_label = np.array(test_features.pop(label_name)) # isolate the label\n",
        "my_model.evaluate(x = test_features, y = test_label, batch_size=batch_size)"
      ],
      "execution_count": null,
      "outputs": [
        {
          "output_type": "stream",
          "text": [
            "Epoch 1/15\n",
            "WARNING:tensorflow:Layers in a Sequential model should only have a single input tensor, but we receive a <class 'dict'> input: {'longitude': <tf.Tensor 'ExpandDims_3:0' shape=(1000, 1) dtype=float32>, 'latitude': <tf.Tensor 'ExpandDims_2:0' shape=(1000, 1) dtype=float32>, 'housing_median_age': <tf.Tensor 'ExpandDims_1:0' shape=(1000, 1) dtype=float32>, 'total_rooms': <tf.Tensor 'ExpandDims_7:0' shape=(1000, 1) dtype=float32>, 'total_bedrooms': <tf.Tensor 'ExpandDims_6:0' shape=(1000, 1) dtype=float32>, 'population': <tf.Tensor 'ExpandDims_5:0' shape=(1000, 1) dtype=float32>, 'households': <tf.Tensor 'ExpandDims:0' shape=(1000, 1) dtype=float32>, 'median_income': <tf.Tensor 'ExpandDims_4:0' shape=(1000, 1) dtype=float32>}\n",
            "Consider rewriting this model with the Functional API.\n",
            "WARNING:tensorflow:Layers in a Sequential model should only have a single input tensor, but we receive a <class 'dict'> input: {'longitude': <tf.Tensor 'ExpandDims_3:0' shape=(1000, 1) dtype=float32>, 'latitude': <tf.Tensor 'ExpandDims_2:0' shape=(1000, 1) dtype=float32>, 'housing_median_age': <tf.Tensor 'ExpandDims_1:0' shape=(1000, 1) dtype=float32>, 'total_rooms': <tf.Tensor 'ExpandDims_7:0' shape=(1000, 1) dtype=float32>, 'total_bedrooms': <tf.Tensor 'ExpandDims_6:0' shape=(1000, 1) dtype=float32>, 'population': <tf.Tensor 'ExpandDims_5:0' shape=(1000, 1) dtype=float32>, 'households': <tf.Tensor 'ExpandDims:0' shape=(1000, 1) dtype=float32>, 'median_income': <tf.Tensor 'ExpandDims_4:0' shape=(1000, 1) dtype=float32>}\n",
            "Consider rewriting this model with the Functional API.\n",
            "17/17 [==============================] - 0s 3ms/step - loss: 0.9298 - mean_squared_error: 0.9298\n",
            "Epoch 2/15\n",
            "17/17 [==============================] - 0s 3ms/step - loss: 0.6124 - mean_squared_error: 0.6124\n",
            "Epoch 3/15\n",
            "17/17 [==============================] - 0s 3ms/step - loss: 0.4693 - mean_squared_error: 0.4693\n",
            "Epoch 4/15\n",
            "17/17 [==============================] - 0s 3ms/step - loss: 0.4076 - mean_squared_error: 0.4076\n",
            "Epoch 5/15\n",
            "17/17 [==============================] - 0s 3ms/step - loss: 0.3705 - mean_squared_error: 0.3705\n",
            "Epoch 6/15\n",
            "17/17 [==============================] - 0s 3ms/step - loss: 0.3631 - mean_squared_error: 0.3631\n",
            "Epoch 7/15\n",
            "17/17 [==============================] - 0s 3ms/step - loss: 0.3628 - mean_squared_error: 0.3628\n",
            "Epoch 8/15\n",
            "17/17 [==============================] - 0s 3ms/step - loss: 0.3678 - mean_squared_error: 0.3678\n",
            "Epoch 9/15\n",
            "17/17 [==============================] - 0s 3ms/step - loss: 0.3597 - mean_squared_error: 0.3597\n",
            "Epoch 10/15\n",
            "17/17 [==============================] - 0s 3ms/step - loss: 0.3708 - mean_squared_error: 0.3708\n",
            "Epoch 11/15\n",
            "17/17 [==============================] - 0s 3ms/step - loss: 0.3553 - mean_squared_error: 0.3553\n",
            "Epoch 12/15\n",
            "17/17 [==============================] - 0s 3ms/step - loss: 0.3632 - mean_squared_error: 0.3632\n",
            "Epoch 13/15\n",
            "17/17 [==============================] - 0s 3ms/step - loss: 0.3584 - mean_squared_error: 0.3584\n",
            "Epoch 14/15\n",
            "17/17 [==============================] - 0s 3ms/step - loss: 0.3555 - mean_squared_error: 0.3555\n",
            "Epoch 15/15\n",
            "17/17 [==============================] - 0s 3ms/step - loss: 0.3531 - mean_squared_error: 0.3531\n"
          ],
          "name": "stdout"
        },
        {
          "output_type": "display_data",
          "data": {
            "image/png": "[encoded data removed]",
            "text/plain": [
              "<Figure size 432x288 with 1 Axes>"
            ]
          },
          "metadata": {
            "tags": [],
            "needs_background": "light"
          }
        },
        {
          "output_type": "stream",
          "text": [
            "WARNING:tensorflow:Layers in a Sequential model should only have a single input tensor, but we receive a <class 'dict'> input: {'longitude': <tf.Tensor 'ExpandDims_3:0' shape=(1000, 1) dtype=float32>, 'latitude': <tf.Tensor 'ExpandDims_2:0' shape=(1000, 1) dtype=float32>, 'housing_median_age': <tf.Tensor 'ExpandDims_1:0' shape=(1000, 1) dtype=float32>, 'total_rooms': <tf.Tensor 'ExpandDims_7:0' shape=(1000, 1) dtype=float32>, 'total_bedrooms': <tf.Tensor 'ExpandDims_6:0' shape=(1000, 1) dtype=float32>, 'population': <tf.Tensor 'ExpandDims_5:0' shape=(1000, 1) dtype=float32>, 'households': <tf.Tensor 'ExpandDims:0' shape=(1000, 1) dtype=float32>, 'median_income': <tf.Tensor 'ExpandDims_4:0' shape=(1000, 1) dtype=float32>}\n",
            "Consider rewriting this model with the Functional API.\n",
            "3/3 [==============================] - 0s 4ms/step - loss: 0.3960 - mean_squared_error: 0.3960\n"
          ],
          "name": "stdout"
        },
        {
          "output_type": "execute_result",
          "data": {
            "text/plain": [
              "[0.3960238993167877, 0.3960238993167877]"
            ]
          },
          "metadata": {
            "tags": []
          },
          "execution_count": 7
        }
      ]
    },
    {
      "cell_type": "markdown",
      "metadata": {
        "id": "3014ezH3C7jT"
      },
      "source": [
        "## Task 2: Deep Neural Network model"
      ]
    },
    {
      "cell_type": "code",
      "metadata": {
        "id": "pedD5GhlDC-y",
        "cellView": "both",
        "colab": {
          "base_uri": "https://localhost:8080/",
          "height": 1000
        },
        "outputId": "084f774c-f095-4d2c-cd7f-9265043021dc"
      },
      "source": [
        "def create_model(my_learning_rate, my_feature_layer):\n",
        "  model = tf.keras.models.Sequential()\n",
        "  model.add(feature_layer)\n",
        "  model.add(tf.keras.layers.Dense(units=20, activation='relu', name='Hidden1'))\n",
        "  model.add(tf.keras.layers.Dense(units=12, activation='relu', name='Hidden2'))\n",
        "  model.add(tf.keras.layers.Dense(units=1, name='Output'))                              \n",
        "  model.compile(\n",
        "      loss=\"mean_squared_error\",\n",
        "      metrics=[tf.keras.metrics.MeanSquaredError()],\n",
        "      optimizer=tf.keras.optimizers.Adam(lr=my_learning_rate)\n",
        "  )\n",
        "  return model\n",
        "\n",
        "def train_model(model, dataset, epochs, label_name, batch_size=None):\n",
        "  # Split the dataset into features and label.\n",
        "  features = {name:np.array(value) for name, value in dataset.items()}\n",
        "  label = np.array(features.pop(label_name))\n",
        "  # Train the model\n",
        "  history = model.fit(x=features, y=label, batch_size=batch_size, epochs=epochs, shuffle=True) \n",
        "  # Store details for plotting\n",
        "  epochs = history.epoch\n",
        "  hist = pd.DataFrame(history.history)\n",
        "  mse = hist[\"mean_squared_error\"]\n",
        "  return epochs, mse\n",
        "\n",
        "# Set the hyperparameters.\n",
        "learning_rate = 0.01\n",
        "epochs = 20\n",
        "batch_size = 1000\n",
        "\n",
        "# Specify the label\n",
        "label_name = \"median_house_value\"\n",
        "\n",
        "# Establish the model's topography.\n",
        "my_model = create_model(learning_rate, feature_layer)\n",
        "\n",
        "# Train the model on the normalized training set.\n",
        "epochs, mse = train_model(my_model, train_df_norm, epochs, label_name, batch_size)\n",
        "plot_curve(epochs, mse)\n",
        "\n",
        "# Evaluate the model against the test set.\n",
        "test_features = {name:np.array(value) for name, value in test_df_norm.items()}\n",
        "test_label = np.array(test_features.pop(label_name)) # isolate the label\n",
        "my_model.evaluate(x = test_features, y = test_label, batch_size=batch_size)"
      ],
      "execution_count": null,
      "outputs": [
        {
          "output_type": "stream",
          "text": [
            "Epoch 1/20\n",
            "WARNING:tensorflow:Layers in a Sequential model should only have a single input tensor, but we receive a <class 'dict'> input: {'longitude': <tf.Tensor 'ExpandDims_3:0' shape=(1000, 1) dtype=float32>, 'latitude': <tf.Tensor 'ExpandDims_2:0' shape=(1000, 1) dtype=float32>, 'housing_median_age': <tf.Tensor 'ExpandDims_1:0' shape=(1000, 1) dtype=float32>, 'total_rooms': <tf.Tensor 'ExpandDims_7:0' shape=(1000, 1) dtype=float32>, 'total_bedrooms': <tf.Tensor 'ExpandDims_6:0' shape=(1000, 1) dtype=float32>, 'population': <tf.Tensor 'ExpandDims_5:0' shape=(1000, 1) dtype=float32>, 'households': <tf.Tensor 'ExpandDims:0' shape=(1000, 1) dtype=float32>, 'median_income': <tf.Tensor 'ExpandDims_4:0' shape=(1000, 1) dtype=float32>}\n",
            "Consider rewriting this model with the Functional API.\n",
            "WARNING:tensorflow:Layers in a Sequential model should only have a single input tensor, but we receive a <class 'dict'> input: {'longitude': <tf.Tensor 'ExpandDims_3:0' shape=(1000, 1) dtype=float32>, 'latitude': <tf.Tensor 'ExpandDims_2:0' shape=(1000, 1) dtype=float32>, 'housing_median_age': <tf.Tensor 'ExpandDims_1:0' shape=(1000, 1) dtype=float32>, 'total_rooms': <tf.Tensor 'ExpandDims_7:0' shape=(1000, 1) dtype=float32>, 'total_bedrooms': <tf.Tensor 'ExpandDims_6:0' shape=(1000, 1) dtype=float32>, 'population': <tf.Tensor 'ExpandDims_5:0' shape=(1000, 1) dtype=float32>, 'households': <tf.Tensor 'ExpandDims:0' shape=(1000, 1) dtype=float32>, 'median_income': <tf.Tensor 'ExpandDims_4:0' shape=(1000, 1) dtype=float32>}\n",
            "Consider rewriting this model with the Functional API.\n",
            "17/17 [==============================] - 0s 3ms/step - loss: 0.7509 - mean_squared_error: 0.7509\n",
            "Epoch 2/20\n",
            "17/17 [==============================] - 0s 3ms/step - loss: 0.3749 - mean_squared_error: 0.3749\n",
            "Epoch 3/20\n",
            "17/17 [==============================] - 0s 3ms/step - loss: 0.3559 - mean_squared_error: 0.3559\n",
            "Epoch 4/20\n",
            "17/17 [==============================] - 0s 3ms/step - loss: 0.3344 - mean_squared_error: 0.3344\n",
            "Epoch 5/20\n",
            "17/17 [==============================] - 0s 3ms/step - loss: 0.3312 - mean_squared_error: 0.3312\n",
            "Epoch 6/20\n",
            "17/17 [==============================] - 0s 3ms/step - loss: 0.3286 - mean_squared_error: 0.3286\n",
            "Epoch 7/20\n",
            "17/17 [==============================] - 0s 3ms/step - loss: 0.3384 - mean_squared_error: 0.3384\n",
            "Epoch 8/20\n",
            "17/17 [==============================] - 0s 3ms/step - loss: 0.3302 - mean_squared_error: 0.3302\n",
            "Epoch 9/20\n",
            "17/17 [==============================] - 0s 3ms/step - loss: 0.3288 - mean_squared_error: 0.3288\n",
            "Epoch 10/20\n",
            "17/17 [==============================] - 0s 3ms/step - loss: 0.3351 - mean_squared_error: 0.3351\n",
            "Epoch 11/20\n",
            "17/17 [==============================] - 0s 3ms/step - loss: 0.3146 - mean_squared_error: 0.3146\n",
            "Epoch 12/20\n",
            "17/17 [==============================] - 0s 3ms/step - loss: 0.3236 - mean_squared_error: 0.3236\n",
            "Epoch 13/20\n",
            "17/17 [==============================] - 0s 3ms/step - loss: 0.3220 - mean_squared_error: 0.3220\n",
            "Epoch 14/20\n",
            "17/17 [==============================] - 0s 4ms/step - loss: 0.3292 - mean_squared_error: 0.3292\n",
            "Epoch 15/20\n",
            "17/17 [==============================] - 0s 3ms/step - loss: 0.3086 - mean_squared_error: 0.3086\n",
            "Epoch 16/20\n",
            "17/17 [==============================] - 0s 3ms/step - loss: 0.3243 - mean_squared_error: 0.3243\n",
            "Epoch 17/20\n",
            "17/17 [==============================] - 0s 3ms/step - loss: 0.3167 - mean_squared_error: 0.3167\n",
            "Epoch 18/20\n",
            "17/17 [==============================] - 0s 4ms/step - loss: 0.3167 - mean_squared_error: 0.3167\n",
            "Epoch 19/20\n",
            "17/17 [==============================] - 0s 3ms/step - loss: 0.3143 - mean_squared_error: 0.3143\n",
            "Epoch 20/20\n",
            "17/17 [==============================] - 0s 3ms/step - loss: 0.3208 - mean_squared_error: 0.3208\n"
          ],
          "name": "stdout"
        },
        {
          "output_type": "display_data",
          "data": {
            "image/png": "[encoded data removed]",
            "text/plain": [
              "<Figure size 432x288 with 1 Axes>"
            ]
          },
          "metadata": {
            "tags": [],
            "needs_background": "light"
          }
        },
        {
          "output_type": "stream",
          "text": [
            "WARNING:tensorflow:Layers in a Sequential model should only have a single input tensor, but we receive a <class 'dict'> input: {'longitude': <tf.Tensor 'ExpandDims_3:0' shape=(1000, 1) dtype=float32>, 'latitude': <tf.Tensor 'ExpandDims_2:0' shape=(1000, 1) dtype=float32>, 'housing_median_age': <tf.Tensor 'ExpandDims_1:0' shape=(1000, 1) dtype=float32>, 'total_rooms': <tf.Tensor 'ExpandDims_7:0' shape=(1000, 1) dtype=float32>, 'total_bedrooms': <tf.Tensor 'ExpandDims_6:0' shape=(1000, 1) dtype=float32>, 'population': <tf.Tensor 'ExpandDims_5:0' shape=(1000, 1) dtype=float32>, 'households': <tf.Tensor 'ExpandDims:0' shape=(1000, 1) dtype=float32>, 'median_income': <tf.Tensor 'ExpandDims_4:0' shape=(1000, 1) dtype=float32>}\n",
            "Consider rewriting this model with the Functional API.\n",
            "3/3 [==============================] - 0s 4ms/step - loss: 0.3631 - mean_squared_error: 0.3631\n"
          ],
          "name": "stdout"
        },
        {
          "output_type": "execute_result",
          "data": {
            "text/plain": [
              "[0.363125741481781, 0.363125741481781]"
            ]
          },
          "metadata": {
            "tags": []
          },
          "execution_count": 10
        }
      ]
    },
    {
      "cell_type": "markdown",
      "metadata": {
        "id": "hI7ojsL7nnBE"
      },
      "source": [
        "### Compare the NN model with DNN model\n",
        "\n",
        "* The loss of the deep neural network model was consistently lower than \n",
        "that of the simple linear regression model.\n",
        "* Deep neural network model makes better predictions than the linear regression model."
      ]
    },
    {
      "cell_type": "markdown",
      "metadata": {
        "id": "Y5IKmk7D49_n"
      },
      "source": [
        "## Task 3: Optimize the Deep Neural Network model\n",
        "\n",
        "Goal: (may be in conflict)\n",
        "*  Lower the test loss.\n",
        "*  Minimize the overall number of nodes in the deep neural net. \n",
        "\n",
        "Experiment:\n",
        "* Number of layers of the model\n",
        "* Number of nodes in each layer\n",
        "\n",
        "Observation:\n",
        "* Two layers outperformed one layer\n",
        "* Three layers did not perform significantly better than two layers.\n",
        "\n",
        "Optimized model topography:\n",
        "* 10 nodes in the first layer.\n",
        "*  6 nodes in the second layer.\n",
        "\n",
        "Tradeoffs:\n",
        "* As the number of nodes in each layer dropped, the test loss may incnrease.  \n",
        "* Depending on the application use and the hardware constraints, a smaller network might be acceptable."
      ]
    },
    {
      "cell_type": "markdown",
      "metadata": {
        "id": "Pu7R_ZpDopIj"
      },
      "source": [
        "## Task 4: Regularize the Deep Neural Network\n",
        "\n",
        "Observations:\n",
        "* The model's `test loss > training loss`.  \n",
        "* In other words, the network is [overfitting](https://developers.google.com/machine-learning/glossary/#overfitting) to the data in the training set.  \n",
        "\n",
        "Goal:\n",
        "* Experiment with one or more regularization mechanisms to bring the test loss closer to the training loss.\n",
        "* Keep the test loss relatively low. \n",
        "\n",
        "Actions:\n",
        "  * [L1 regularization](https://developers.google.com/machine-learning/glossary/#L1_regularization)\n",
        "  * [L2 regularization](https://developers.google.com/machine-learning/glossary/#L2_regularization)\n",
        "  * [Dropout regularization](https://developers.google.com/machine-learning/glossary/#dropout_regularization)\n",
        "\n",
        "**Note:** When you add a regularization function to a model, you might need to tweak other hyperparameters. \n",
        "\n",
        "### Implementing L1 or L2 regularization\n",
        "\n",
        "To use L1 or L2 **regularization on a hidden layer**, specify the `kernel_regularizer` argument to [tf.keras.layers.Dense](https://www.tensorflow.org/api_docs/python/tf/keras/layers/Dense). Assign one of the following methods to this argument:\n",
        "\n",
        "* `tf.keras.regularizers.l1` for L1 regularization\n",
        "* `tf.keras.regularizers.l2` for L2 regularization\n",
        "\n",
        "Each of the preceding methods takes an `l` parameter (0 and 1), which adjusts the [regularization rate](https://developers.google.com/machine-learning/glossary/#regularization_rate). \n",
        "\n",
        "```\n",
        "model.add(tf.keras.layers.Dense(units=20, activation='relu', kernel_regularizer=tf.keras.regularizers.l2(l=0.01), name='Hidden1'))\n",
        "```\n",
        "\n",
        "### Implementing Dropout regularization\n",
        "\n",
        "Implement dropout regularization as a **separate layer in the topography**.\n",
        "\n",
        "The `rate` parameter to [tf.keras.layers.Dropout](https://www.tensorflow.org/api_docs/python/tf/keras/layers/Dropout) specifies the fraction of nodes that the model should drop out during training.\n",
        "\n",
        "```\n",
        "model.add(tf.keras.layers.Dense( *define first hidden layer*)\n",
        "model.add(tf.keras.layers.Dropout(rate=0.25))\n",
        "model.add(tf.keras.layers.Dense( *define second hidden layer*)\n",
        "```\n",
        " "
      ]
    },
    {
      "cell_type": "code",
      "metadata": {
        "id": "tflt9TZEDARW",
        "colab": {
          "base_uri": "https://localhost:8080/",
          "height": 1000
        },
        "outputId": "7736baad-d98a-46ca-a027-6a5a6bc7acab"
      },
      "source": [
        "def create_model(my_learning_rate, my_feature_layer):\n",
        "  model = None\n",
        "  model = tf.keras.models.Sequential()\n",
        "  model.add(my_feature_layer)\n",
        "  model.add(tf.keras.layers.Dense(units=20, activation='relu', kernel_regularizer=tf.keras.regularizers.l2(0.04), name='Hidden1'))\n",
        "  model.add(tf.keras.layers.Dropout(rate=0.25))\n",
        "  model.add(tf.keras.layers.Dense(units=12, activation='relu', kernel_regularizer=tf.keras.regularizers.l2(0.04), name='Hidden2'))\n",
        "  model.add(tf.keras.layers.Dense(units=1, name='Output'))                              \n",
        "  model.compile(\n",
        "      loss=\"mean_squared_error\",\n",
        "      metrics=[tf.keras.metrics.MeanSquaredError()],\n",
        "      optimizer=tf.keras.optimizers.Adam(lr=my_learning_rate)\n",
        "  )\n",
        "  return model     \n",
        "\n",
        "learning_rate = 0.007\n",
        "epochs = 140\n",
        "batch_size = 1000\n",
        "\n",
        "label_name = \"median_house_value\"\n",
        "\n",
        "my_model = create_model(learning_rate, feature_layer)\n",
        "\n",
        "epochs, mse = train_model(my_model, train_df_norm, epochs, label_name, batch_size)\n",
        "plot_curve(epochs, mse)\n",
        "\n",
        "test_features = {name:np.array(value) for name, value in test_df_norm.items()}\n",
        "test_label = np.array(test_features.pop(label_name)) # isolate the label\n",
        "my_model.evaluate(x = test_features, y = test_label, batch_size=batch_size) "
      ],
      "execution_count": null,
      "outputs": [
        {
          "output_type": "stream",
          "text": [
            "Epoch 1/140\n",
            "WARNING:tensorflow:Layers in a Sequential model should only have a single input tensor, but we receive a <class 'dict'> input: {'longitude': <tf.Tensor 'ExpandDims_3:0' shape=(1000, 1) dtype=float32>, 'latitude': <tf.Tensor 'ExpandDims_2:0' shape=(1000, 1) dtype=float32>, 'housing_median_age': <tf.Tensor 'ExpandDims_1:0' shape=(1000, 1) dtype=float32>, 'total_rooms': <tf.Tensor 'ExpandDims_7:0' shape=(1000, 1) dtype=float32>, 'total_bedrooms': <tf.Tensor 'ExpandDims_6:0' shape=(1000, 1) dtype=float32>, 'population': <tf.Tensor 'ExpandDims_5:0' shape=(1000, 1) dtype=float32>, 'households': <tf.Tensor 'ExpandDims:0' shape=(1000, 1) dtype=float32>, 'median_income': <tf.Tensor 'ExpandDims_4:0' shape=(1000, 1) dtype=float32>}\n",
            "Consider rewriting this model with the Functional API.\n",
            "WARNING:tensorflow:Layers in a Sequential model should only have a single input tensor, but we receive a <class 'dict'> input: {'longitude': <tf.Tensor 'ExpandDims_3:0' shape=(1000, 1) dtype=float32>, 'latitude': <tf.Tensor 'ExpandDims_2:0' shape=(1000, 1) dtype=float32>, 'housing_median_age': <tf.Tensor 'ExpandDims_1:0' shape=(1000, 1) dtype=float32>, 'total_rooms': <tf.Tensor 'ExpandDims_7:0' shape=(1000, 1) dtype=float32>, 'total_bedrooms': <tf.Tensor 'ExpandDims_6:0' shape=(1000, 1) dtype=float32>, 'population': <tf.Tensor 'ExpandDims_5:0' shape=(1000, 1) dtype=float32>, 'households': <tf.Tensor 'ExpandDims:0' shape=(1000, 1) dtype=float32>, 'median_income': <tf.Tensor 'ExpandDims_4:0' shape=(1000, 1) dtype=float32>}\n",
            "Consider rewriting this model with the Functional API.\n",
            "17/17 [==============================] - 1s 3ms/step - loss: 2.4672 - mean_squared_error: 0.9992\n",
            "Epoch 2/140\n",
            "17/17 [==============================] - 0s 4ms/step - loss: 1.0676 - mean_squared_error: 0.6643\n",
            "Epoch 3/140\n",
            "17/17 [==============================] - 0s 3ms/step - loss: 0.6763 - mean_squared_error: 0.4671\n",
            "Epoch 4/140\n",
            "17/17 [==============================] - 0s 3ms/step - loss: 0.5693 - mean_squared_error: 0.4422\n",
            "Epoch 5/140\n",
            "17/17 [==============================] - 0s 3ms/step - loss: 0.5189 - mean_squared_error: 0.4224\n",
            "Epoch 6/140\n",
            "17/17 [==============================] - 0s 3ms/step - loss: 0.4914 - mean_squared_error: 0.4109\n",
            "Epoch 7/140\n",
            "17/17 [==============================] - 0s 3ms/step - loss: 0.4718 - mean_squared_error: 0.3965\n",
            "Epoch 8/140\n",
            "17/17 [==============================] - 0s 3ms/step - loss: 0.4668 - mean_squared_error: 0.3955\n",
            "Epoch 9/140\n",
            "17/17 [==============================] - 0s 3ms/step - loss: 0.4762 - mean_squared_error: 0.4085\n",
            "Epoch 10/140\n",
            "17/17 [==============================] - 0s 3ms/step - loss: 0.4715 - mean_squared_error: 0.4043\n",
            "Epoch 11/140\n",
            "17/17 [==============================] - 0s 3ms/step - loss: 0.4579 - mean_squared_error: 0.3928\n",
            "Epoch 12/140\n",
            "17/17 [==============================] - 0s 3ms/step - loss: 0.4571 - mean_squared_error: 0.3932\n",
            "Epoch 13/140\n",
            "17/17 [==============================] - 0s 3ms/step - loss: 0.4638 - mean_squared_error: 0.4008\n",
            "Epoch 14/140\n",
            "17/17 [==============================] - 0s 3ms/step - loss: 0.4618 - mean_squared_error: 0.3999\n",
            "Epoch 15/140\n",
            "17/17 [==============================] - 0s 3ms/step - loss: 0.4406 - mean_squared_error: 0.3793\n",
            "Epoch 16/140\n",
            "17/17 [==============================] - 0s 3ms/step - loss: 0.4474 - mean_squared_error: 0.3881\n",
            "Epoch 17/140\n",
            "17/17 [==============================] - 0s 3ms/step - loss: 0.4526 - mean_squared_error: 0.3919\n",
            "Epoch 18/140\n",
            "17/17 [==============================] - 0s 3ms/step - loss: 0.4564 - mean_squared_error: 0.3979\n",
            "Epoch 19/140\n",
            "17/17 [==============================] - 0s 3ms/step - loss: 0.4643 - mean_squared_error: 0.4062\n",
            "Epoch 20/140\n",
            "17/17 [==============================] - 0s 3ms/step - loss: 0.4389 - mean_squared_error: 0.3811\n",
            "Epoch 21/140\n",
            "17/17 [==============================] - 0s 3ms/step - loss: 0.4453 - mean_squared_error: 0.3864\n",
            "Epoch 22/140\n",
            "17/17 [==============================] - 0s 3ms/step - loss: 0.4347 - mean_squared_error: 0.3779\n",
            "Epoch 23/140\n",
            "17/17 [==============================] - 0s 3ms/step - loss: 0.4365 - mean_squared_error: 0.3789\n",
            "Epoch 24/140\n",
            "17/17 [==============================] - 0s 3ms/step - loss: 0.4372 - mean_squared_error: 0.3818\n",
            "Epoch 25/140\n",
            "17/17 [==============================] - 0s 3ms/step - loss: 0.4447 - mean_squared_error: 0.3868\n",
            "Epoch 26/140\n",
            "17/17 [==============================] - 0s 3ms/step - loss: 0.4555 - mean_squared_error: 0.4004\n",
            "Epoch 27/140\n",
            "17/17 [==============================] - 0s 3ms/step - loss: 0.4346 - mean_squared_error: 0.3803\n",
            "Epoch 28/140\n",
            "17/17 [==============================] - 0s 3ms/step - loss: 0.4387 - mean_squared_error: 0.3838\n",
            "Epoch 29/140\n",
            "17/17 [==============================] - 0s 3ms/step - loss: 0.4458 - mean_squared_error: 0.3894\n",
            "Epoch 30/140\n",
            "17/17 [==============================] - 0s 3ms/step - loss: 0.4390 - mean_squared_error: 0.3857\n",
            "Epoch 31/140\n",
            "17/17 [==============================] - 0s 3ms/step - loss: 0.4239 - mean_squared_error: 0.3711\n",
            "Epoch 32/140\n",
            "17/17 [==============================] - 0s 3ms/step - loss: 0.4391 - mean_squared_error: 0.3860\n",
            "Epoch 33/140\n",
            "17/17 [==============================] - 0s 4ms/step - loss: 0.4361 - mean_squared_error: 0.3828\n",
            "Epoch 34/140\n",
            "17/17 [==============================] - 0s 3ms/step - loss: 0.4366 - mean_squared_error: 0.3829\n",
            "Epoch 35/140\n",
            "17/17 [==============================] - 0s 4ms/step - loss: 0.4260 - mean_squared_error: 0.3748\n",
            "Epoch 36/140\n",
            "17/17 [==============================] - 0s 3ms/step - loss: 0.4273 - mean_squared_error: 0.3765\n",
            "Epoch 37/140\n",
            "17/17 [==============================] - 0s 3ms/step - loss: 0.4278 - mean_squared_error: 0.3772\n",
            "Epoch 38/140\n",
            "17/17 [==============================] - 0s 3ms/step - loss: 0.4331 - mean_squared_error: 0.3821\n",
            "Epoch 39/140\n",
            "17/17 [==============================] - 0s 3ms/step - loss: 0.4310 - mean_squared_error: 0.3788\n",
            "Epoch 40/140\n",
            "17/17 [==============================] - 0s 3ms/step - loss: 0.4302 - mean_squared_error: 0.3796\n",
            "Epoch 41/140\n",
            "17/17 [==============================] - 0s 3ms/step - loss: 0.4379 - mean_squared_error: 0.3872\n",
            "Epoch 42/140\n",
            "17/17 [==============================] - 0s 3ms/step - loss: 0.4372 - mean_squared_error: 0.3862\n",
            "Epoch 43/140\n",
            "17/17 [==============================] - 0s 3ms/step - loss: 0.4319 - mean_squared_error: 0.3824\n",
            "Epoch 44/140\n",
            "17/17 [==============================] - 0s 3ms/step - loss: 0.4316 - mean_squared_error: 0.3834\n",
            "Epoch 45/140\n",
            "17/17 [==============================] - 0s 3ms/step - loss: 0.4351 - mean_squared_error: 0.3848\n",
            "Epoch 46/140\n",
            "17/17 [==============================] - 0s 3ms/step - loss: 0.4268 - mean_squared_error: 0.3783\n",
            "Epoch 47/140\n",
            "17/17 [==============================] - 0s 3ms/step - loss: 0.4312 - mean_squared_error: 0.3817\n",
            "Epoch 48/140\n",
            "17/17 [==============================] - 0s 3ms/step - loss: 0.4239 - mean_squared_error: 0.3747\n",
            "Epoch 49/140\n",
            "17/17 [==============================] - 0s 3ms/step - loss: 0.4264 - mean_squared_error: 0.3789\n",
            "Epoch 50/140\n",
            "17/17 [==============================] - 0s 3ms/step - loss: 0.4284 - mean_squared_error: 0.3795\n",
            "Epoch 51/140\n",
            "17/17 [==============================] - 0s 3ms/step - loss: 0.4346 - mean_squared_error: 0.3865\n",
            "Epoch 52/140\n",
            "17/17 [==============================] - 0s 3ms/step - loss: 0.4271 - mean_squared_error: 0.3800\n",
            "Epoch 53/140\n",
            "17/17 [==============================] - 0s 3ms/step - loss: 0.4286 - mean_squared_error: 0.3826\n",
            "Epoch 54/140\n",
            "17/17 [==============================] - 0s 4ms/step - loss: 0.4336 - mean_squared_error: 0.3876\n",
            "Epoch 55/140\n",
            "17/17 [==============================] - 0s 4ms/step - loss: 0.4174 - mean_squared_error: 0.3701\n",
            "Epoch 56/140\n",
            "17/17 [==============================] - 0s 3ms/step - loss: 0.4285 - mean_squared_error: 0.3815\n",
            "Epoch 57/140\n",
            "17/17 [==============================] - 0s 3ms/step - loss: 0.4112 - mean_squared_error: 0.3634\n",
            "Epoch 58/140\n",
            "17/17 [==============================] - 0s 3ms/step - loss: 0.4312 - mean_squared_error: 0.3852\n",
            "Epoch 59/140\n",
            "17/17 [==============================] - 0s 3ms/step - loss: 0.4146 - mean_squared_error: 0.3681\n",
            "Epoch 60/140\n",
            "17/17 [==============================] - 0s 3ms/step - loss: 0.4262 - mean_squared_error: 0.3799\n",
            "Epoch 61/140\n",
            "17/17 [==============================] - 0s 3ms/step - loss: 0.4223 - mean_squared_error: 0.3761\n",
            "Epoch 62/140\n",
            "17/17 [==============================] - 0s 3ms/step - loss: 0.4216 - mean_squared_error: 0.3760\n",
            "Epoch 63/140\n",
            "17/17 [==============================] - 0s 3ms/step - loss: 0.4327 - mean_squared_error: 0.3865\n",
            "Epoch 64/140\n",
            "17/17 [==============================] - 0s 3ms/step - loss: 0.4340 - mean_squared_error: 0.3889\n",
            "Epoch 65/140\n",
            "17/17 [==============================] - 0s 3ms/step - loss: 0.4234 - mean_squared_error: 0.3781\n",
            "Epoch 66/140\n",
            "17/17 [==============================] - 0s 3ms/step - loss: 0.4246 - mean_squared_error: 0.3792\n",
            "Epoch 67/140\n",
            "17/17 [==============================] - 0s 3ms/step - loss: 0.4239 - mean_squared_error: 0.3785\n",
            "Epoch 68/140\n",
            "17/17 [==============================] - 0s 3ms/step - loss: 0.4248 - mean_squared_error: 0.3803\n",
            "Epoch 69/140\n",
            "17/17 [==============================] - 0s 3ms/step - loss: 0.4215 - mean_squared_error: 0.3773\n",
            "Epoch 70/140\n",
            "17/17 [==============================] - 0s 3ms/step - loss: 0.4144 - mean_squared_error: 0.3698\n",
            "Epoch 71/140\n",
            "17/17 [==============================] - 0s 3ms/step - loss: 0.4153 - mean_squared_error: 0.3719\n",
            "Epoch 72/140\n",
            "17/17 [==============================] - 0s 3ms/step - loss: 0.4177 - mean_squared_error: 0.3739\n",
            "Epoch 73/140\n",
            "17/17 [==============================] - 0s 4ms/step - loss: 0.4126 - mean_squared_error: 0.3684\n",
            "Epoch 74/140\n",
            "17/17 [==============================] - 0s 3ms/step - loss: 0.4209 - mean_squared_error: 0.3782\n",
            "Epoch 75/140\n",
            "17/17 [==============================] - 0s 3ms/step - loss: 0.4210 - mean_squared_error: 0.3765\n",
            "Epoch 76/140\n",
            "17/17 [==============================] - 0s 3ms/step - loss: 0.4192 - mean_squared_error: 0.3753\n",
            "Epoch 77/140\n",
            "17/17 [==============================] - 0s 3ms/step - loss: 0.4068 - mean_squared_error: 0.3627\n",
            "Epoch 78/140\n",
            "17/17 [==============================] - 0s 3ms/step - loss: 0.4267 - mean_squared_error: 0.3850\n",
            "Epoch 79/140\n",
            "17/17 [==============================] - 0s 3ms/step - loss: 0.4171 - mean_squared_error: 0.3737\n",
            "Epoch 80/140\n",
            "17/17 [==============================] - 0s 3ms/step - loss: 0.4135 - mean_squared_error: 0.3697\n",
            "Epoch 81/140\n",
            "17/17 [==============================] - 0s 3ms/step - loss: 0.4202 - mean_squared_error: 0.3779\n",
            "Epoch 82/140\n",
            "17/17 [==============================] - 0s 3ms/step - loss: 0.4196 - mean_squared_error: 0.3764\n",
            "Epoch 83/140\n",
            "17/17 [==============================] - 0s 3ms/step - loss: 0.4187 - mean_squared_error: 0.3756\n",
            "Epoch 84/140\n",
            "17/17 [==============================] - 0s 3ms/step - loss: 0.4200 - mean_squared_error: 0.3772\n",
            "Epoch 85/140\n",
            "17/17 [==============================] - 0s 3ms/step - loss: 0.4228 - mean_squared_error: 0.3801\n",
            "Epoch 86/140\n",
            "17/17 [==============================] - 0s 3ms/step - loss: 0.4201 - mean_squared_error: 0.3777\n",
            "Epoch 87/140\n",
            "17/17 [==============================] - 0s 4ms/step - loss: 0.4203 - mean_squared_error: 0.3786\n",
            "Epoch 88/140\n",
            "17/17 [==============================] - 0s 3ms/step - loss: 0.4135 - mean_squared_error: 0.3713\n",
            "Epoch 89/140\n",
            "17/17 [==============================] - 0s 4ms/step - loss: 0.4197 - mean_squared_error: 0.3761\n",
            "Epoch 90/140\n",
            "17/17 [==============================] - 0s 3ms/step - loss: 0.4174 - mean_squared_error: 0.3750\n",
            "Epoch 91/140\n",
            "17/17 [==============================] - 0s 3ms/step - loss: 0.4200 - mean_squared_error: 0.3782\n",
            "Epoch 92/140\n",
            "17/17 [==============================] - 0s 3ms/step - loss: 0.4134 - mean_squared_error: 0.3731\n",
            "Epoch 93/140\n",
            "17/17 [==============================] - 0s 3ms/step - loss: 0.4308 - mean_squared_error: 0.3890\n",
            "Epoch 94/140\n",
            "17/17 [==============================] - 0s 4ms/step - loss: 0.4050 - mean_squared_error: 0.3656\n",
            "Epoch 95/140\n",
            "17/17 [==============================] - 0s 3ms/step - loss: 0.4236 - mean_squared_error: 0.3812\n",
            "Epoch 96/140\n",
            "17/17 [==============================] - 0s 3ms/step - loss: 0.4073 - mean_squared_error: 0.3674\n",
            "Epoch 97/140\n",
            "17/17 [==============================] - 0s 3ms/step - loss: 0.4147 - mean_squared_error: 0.3746\n",
            "Epoch 98/140\n",
            "17/17 [==============================] - 0s 3ms/step - loss: 0.4114 - mean_squared_error: 0.3712\n",
            "Epoch 99/140\n",
            "17/17 [==============================] - 0s 3ms/step - loss: 0.4253 - mean_squared_error: 0.3837\n",
            "Epoch 100/140\n",
            "17/17 [==============================] - 0s 3ms/step - loss: 0.4124 - mean_squared_error: 0.3729\n",
            "Epoch 101/140\n",
            "17/17 [==============================] - 0s 3ms/step - loss: 0.4064 - mean_squared_error: 0.3651\n",
            "Epoch 102/140\n",
            "17/17 [==============================] - 0s 3ms/step - loss: 0.4175 - mean_squared_error: 0.3771\n",
            "Epoch 103/140\n",
            "17/17 [==============================] - 0s 3ms/step - loss: 0.4113 - mean_squared_error: 0.3719\n",
            "Epoch 104/140\n",
            "17/17 [==============================] - 0s 3ms/step - loss: 0.4076 - mean_squared_error: 0.3675\n",
            "Epoch 105/140\n",
            "17/17 [==============================] - 0s 3ms/step - loss: 0.4150 - mean_squared_error: 0.3746\n",
            "Epoch 106/140\n",
            "17/17 [==============================] - 0s 3ms/step - loss: 0.4233 - mean_squared_error: 0.3839\n",
            "Epoch 107/140\n",
            "17/17 [==============================] - 0s 3ms/step - loss: 0.4054 - mean_squared_error: 0.3641\n",
            "Epoch 108/140\n",
            "17/17 [==============================] - 0s 4ms/step - loss: 0.4163 - mean_squared_error: 0.3768\n",
            "Epoch 109/140\n",
            "17/17 [==============================] - 0s 4ms/step - loss: 0.4164 - mean_squared_error: 0.3777\n",
            "Epoch 110/140\n",
            "17/17 [==============================] - 0s 4ms/step - loss: 0.4106 - mean_squared_error: 0.3711\n",
            "Epoch 111/140\n",
            "17/17 [==============================] - 0s 4ms/step - loss: 0.4078 - mean_squared_error: 0.3685\n",
            "Epoch 112/140\n",
            "17/17 [==============================] - 0s 4ms/step - loss: 0.4226 - mean_squared_error: 0.3833\n",
            "Epoch 113/140\n",
            "17/17 [==============================] - 0s 3ms/step - loss: 0.4111 - mean_squared_error: 0.3719\n",
            "Epoch 114/140\n",
            "17/17 [==============================] - 0s 4ms/step - loss: 0.4109 - mean_squared_error: 0.3722\n",
            "Epoch 115/140\n",
            "17/17 [==============================] - 0s 4ms/step - loss: 0.4070 - mean_squared_error: 0.3673\n",
            "Epoch 116/140\n",
            "17/17 [==============================] - 0s 4ms/step - loss: 0.4077 - mean_squared_error: 0.3687\n",
            "Epoch 117/140\n",
            "17/17 [==============================] - 0s 4ms/step - loss: 0.4160 - mean_squared_error: 0.3766\n",
            "Epoch 118/140\n",
            "17/17 [==============================] - 0s 3ms/step - loss: 0.4157 - mean_squared_error: 0.3769\n",
            "Epoch 119/140\n",
            "17/17 [==============================] - 0s 4ms/step - loss: 0.4025 - mean_squared_error: 0.3644\n",
            "Epoch 120/140\n",
            "17/17 [==============================] - 0s 3ms/step - loss: 0.4223 - mean_squared_error: 0.3827\n",
            "Epoch 121/140\n",
            "17/17 [==============================] - 0s 4ms/step - loss: 0.4071 - mean_squared_error: 0.3696\n",
            "Epoch 122/140\n",
            "17/17 [==============================] - 0s 4ms/step - loss: 0.4166 - mean_squared_error: 0.3774\n",
            "Epoch 123/140\n",
            "17/17 [==============================] - 0s 4ms/step - loss: 0.4100 - mean_squared_error: 0.3723\n",
            "Epoch 124/140\n",
            "17/17 [==============================] - 0s 4ms/step - loss: 0.4089 - mean_squared_error: 0.3694\n",
            "Epoch 125/140\n",
            "17/17 [==============================] - 0s 4ms/step - loss: 0.4083 - mean_squared_error: 0.3701\n",
            "Epoch 126/140\n",
            "17/17 [==============================] - 0s 4ms/step - loss: 0.4055 - mean_squared_error: 0.3670\n",
            "Epoch 127/140\n",
            "17/17 [==============================] - 0s 4ms/step - loss: 0.4106 - mean_squared_error: 0.3724\n",
            "Epoch 128/140\n",
            "17/17 [==============================] - 0s 4ms/step - loss: 0.4014 - mean_squared_error: 0.3642\n",
            "Epoch 129/140\n",
            "17/17 [==============================] - 0s 4ms/step - loss: 0.4176 - mean_squared_error: 0.3790\n",
            "Epoch 130/140\n",
            "17/17 [==============================] - 0s 4ms/step - loss: 0.4036 - mean_squared_error: 0.3668\n",
            "Epoch 131/140\n",
            "17/17 [==============================] - 0s 4ms/step - loss: 0.4058 - mean_squared_error: 0.3676\n",
            "Epoch 132/140\n",
            "17/17 [==============================] - 0s 4ms/step - loss: 0.4038 - mean_squared_error: 0.3654\n",
            "Epoch 133/140\n",
            "17/17 [==============================] - 0s 4ms/step - loss: 0.4185 - mean_squared_error: 0.3799\n",
            "Epoch 134/140\n",
            "17/17 [==============================] - 0s 3ms/step - loss: 0.4157 - mean_squared_error: 0.3787\n",
            "Epoch 135/140\n",
            "17/17 [==============================] - 0s 3ms/step - loss: 0.4145 - mean_squared_error: 0.3771\n",
            "Epoch 136/140\n",
            "17/17 [==============================] - 0s 4ms/step - loss: 0.4061 - mean_squared_error: 0.3701\n",
            "Epoch 137/140\n",
            "17/17 [==============================] - 0s 4ms/step - loss: 0.4158 - mean_squared_error: 0.3781\n",
            "Epoch 138/140\n",
            "17/17 [==============================] - 0s 4ms/step - loss: 0.3978 - mean_squared_error: 0.3609\n",
            "Epoch 139/140\n",
            "17/17 [==============================] - 0s 4ms/step - loss: 0.4082 - mean_squared_error: 0.3710\n",
            "Epoch 140/140\n",
            "17/17 [==============================] - 0s 4ms/step - loss: 0.4158 - mean_squared_error: 0.3789\n"
          ],
          "name": "stdout"
        },
        {
          "output_type": "display_data",
          "data": {
            "image/png": "[encoded data removed]",
            "text/plain": [
              "<Figure size 432x288 with 1 Axes>"
            ]
          },
          "metadata": {
            "tags": [],
            "needs_background": "light"
          }
        },
        {
          "output_type": "stream",
          "text": [
            "WARNING:tensorflow:Layers in a Sequential model should only have a single input tensor, but we receive a <class 'dict'> input: {'longitude': <tf.Tensor 'ExpandDims_3:0' shape=(1000, 1) dtype=float32>, 'latitude': <tf.Tensor 'ExpandDims_2:0' shape=(1000, 1) dtype=float32>, 'housing_median_age': <tf.Tensor 'ExpandDims_1:0' shape=(1000, 1) dtype=float32>, 'total_rooms': <tf.Tensor 'ExpandDims_7:0' shape=(1000, 1) dtype=float32>, 'total_bedrooms': <tf.Tensor 'ExpandDims_6:0' shape=(1000, 1) dtype=float32>, 'population': <tf.Tensor 'ExpandDims_5:0' shape=(1000, 1) dtype=float32>, 'households': <tf.Tensor 'ExpandDims:0' shape=(1000, 1) dtype=float32>, 'median_income': <tf.Tensor 'ExpandDims_4:0' shape=(1000, 1) dtype=float32>}\n",
            "Consider rewriting this model with the Functional API.\n",
            "3/3 [==============================] - 0s 6ms/step - loss: 0.4120 - mean_squared_error: 0.3734\n"
          ],
          "name": "stdout"
        },
        {
          "output_type": "execute_result",
          "data": {
            "text/plain": [
              "[0.4119853377342224, 0.3733747601509094]"
            ]
          },
          "metadata": {
            "tags": []
          },
          "execution_count": 11
        }
      ]
    }
  ]
}