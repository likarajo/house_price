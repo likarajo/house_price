{
  "nbformat": 4,
  "nbformat_minor": 0,
  "metadata": {
    "colab": {
      "name": "ml_binary-classification.ipynb",
      "provenance": [],
      "collapsed_sections": []
    },
    "kernelspec": {
      "name": "python3",
      "display_name": "Python 3"
    },
    "accelerator": "GPU"
  },
  "cells": [
    {
      "cell_type": "markdown",
      "metadata": {
        "id": "TL5y5fY9Jy_x"
      },
      "source": [
        "# Binary Classification\n",
        "\n",
        "Are houses in California in a neighborhood above a certain price?\n",
        "* Interprete a problem as a classification question.\n",
        "* Determine how modifying the classification threshold influences the model.\n",
        "\n",
        "\n",
        "\n"
      ]
    },
    {
      "cell_type": "code",
      "metadata": {
        "id": "9n9_cTveKmse",
        "colab": {
          "base_uri": "https://localhost:8080/"
        },
        "outputId": "793c9269-dffc-490e-da38-965fb423aca8"
      },
      "source": [
        "import numpy as np\n",
        "\n",
        "import pandas as pd\n",
        "# adjust the granularity of reporting.\n",
        "pd.options.display.max_rows = 10\n",
        "pd.options.display.float_format = \"{:.1f}\".format\n",
        "\n",
        "%tensorflow_version 2.x\n",
        "import tensorflow as tf\n",
        "tf.keras.backend.set_floatx('float32')\n",
        "\n",
        "from tensorflow import feature_column\n",
        "from tensorflow.keras import layers\n",
        "\n",
        "from matplotlib import pyplot as plt\n",
        "\n",
        "print(\"Required Modules imported.\")"
      ],
      "execution_count": null,
      "outputs": [
        {
          "output_type": "stream",
          "text": [
            "Required Modules imported.\n"
          ],
          "name": "stdout"
        }
      ]
    },
    {
      "cell_type": "markdown",
      "metadata": {
        "id": "X_TaJhU4KcuY"
      },
      "source": [
        "## Get Data\n",
        "\n",
        "[California Housing Dataset](https://developers.google.com/machine-learning/crash-course/california-housing-data-description).\n",
        "\n",
        "* `train_df`, which contains the training set\n",
        "* `test_df`, which contains the test set"
      ]
    },
    {
      "cell_type": "code",
      "metadata": {
        "id": "JZlvdpyYKx7V",
        "colab": {
          "base_uri": "https://localhost:8080/"
        },
        "outputId": "1fc199d0-0d73-4488-f4ad-13ec7eec92f5"
      },
      "source": [
        "train_df = pd.read_csv(\"https://download.mlcc.google.com/mledu-datasets/california_housing_train.csv\")\n",
        "print('Training data fetched: ', train_df.shape)\n",
        "\n",
        "test_df = pd.read_csv(\"https://download.mlcc.google.com/mledu-datasets/california_housing_test.csv\")\n",
        "print('Test data fetched: ', test_df.shape)"
      ],
      "execution_count": null,
      "outputs": [
        {
          "output_type": "stream",
          "text": [
            "Training data fetched:  (17000, 9)\n",
            "Test data fetched:  (3000, 9)\n"
          ],
          "name": "stdout"
        }
      ]
    },
    {
      "cell_type": "code",
      "metadata": {
        "colab": {
          "base_uri": "https://localhost:8080/",
          "height": 297
        },
        "id": "PLlkvwTleWfv",
        "outputId": "fb03140f-dc95-4327-e393-bd4778154b9d"
      },
      "source": [
        "train_df.describe()"
      ],
      "execution_count": null,
      "outputs": [
        {
          "output_type": "execute_result",
          "data": {
            "text/html": [
              "<div>\n",
              "<style scoped>\n",
              "    .dataframe tbody tr th:only-of-type {\n",
              "        vertical-align: middle;\n",
              "    }\n",
              "\n",
              "    .dataframe tbody tr th {\n",
              "        vertical-align: top;\n",
              "    }\n",
              "\n",
              "    .dataframe thead th {\n",
              "        text-align: right;\n",
              "    }\n",
              "</style>\n",
              "<table border=\"1\" class=\"dataframe\">\n",
              "  <thead>\n",
              "    <tr style=\"text-align: right;\">\n",
              "      <th></th>\n",
              "      <th>longitude</th>\n",
              "      <th>latitude</th>\n",
              "      <th>housing_median_age</th>\n",
              "      <th>total_rooms</th>\n",
              "      <th>total_bedrooms</th>\n",
              "      <th>population</th>\n",
              "      <th>households</th>\n",
              "      <th>median_income</th>\n",
              "      <th>median_house_value</th>\n",
              "    </tr>\n",
              "  </thead>\n",
              "  <tbody>\n",
              "    <tr>\n",
              "      <th>count</th>\n",
              "      <td>17000.0</td>\n",
              "      <td>17000.0</td>\n",
              "      <td>17000.0</td>\n",
              "      <td>17000.0</td>\n",
              "      <td>17000.0</td>\n",
              "      <td>17000.0</td>\n",
              "      <td>17000.0</td>\n",
              "      <td>17000.0</td>\n",
              "      <td>17000.0</td>\n",
              "    </tr>\n",
              "    <tr>\n",
              "      <th>mean</th>\n",
              "      <td>-119.6</td>\n",
              "      <td>35.6</td>\n",
              "      <td>28.6</td>\n",
              "      <td>2643.7</td>\n",
              "      <td>539.4</td>\n",
              "      <td>1429.6</td>\n",
              "      <td>501.2</td>\n",
              "      <td>3.9</td>\n",
              "      <td>207300.9</td>\n",
              "    </tr>\n",
              "    <tr>\n",
              "      <th>std</th>\n",
              "      <td>2.0</td>\n",
              "      <td>2.1</td>\n",
              "      <td>12.6</td>\n",
              "      <td>2179.9</td>\n",
              "      <td>421.5</td>\n",
              "      <td>1147.9</td>\n",
              "      <td>384.5</td>\n",
              "      <td>1.9</td>\n",
              "      <td>115983.8</td>\n",
              "    </tr>\n",
              "    <tr>\n",
              "      <th>min</th>\n",
              "      <td>-124.3</td>\n",
              "      <td>32.5</td>\n",
              "      <td>1.0</td>\n",
              "      <td>2.0</td>\n",
              "      <td>1.0</td>\n",
              "      <td>3.0</td>\n",
              "      <td>1.0</td>\n",
              "      <td>0.5</td>\n",
              "      <td>14999.0</td>\n",
              "    </tr>\n",
              "    <tr>\n",
              "      <th>25%</th>\n",
              "      <td>-121.8</td>\n",
              "      <td>33.9</td>\n",
              "      <td>18.0</td>\n",
              "      <td>1462.0</td>\n",
              "      <td>297.0</td>\n",
              "      <td>790.0</td>\n",
              "      <td>282.0</td>\n",
              "      <td>2.6</td>\n",
              "      <td>119400.0</td>\n",
              "    </tr>\n",
              "    <tr>\n",
              "      <th>50%</th>\n",
              "      <td>-118.5</td>\n",
              "      <td>34.2</td>\n",
              "      <td>29.0</td>\n",
              "      <td>2127.0</td>\n",
              "      <td>434.0</td>\n",
              "      <td>1167.0</td>\n",
              "      <td>409.0</td>\n",
              "      <td>3.5</td>\n",
              "      <td>180400.0</td>\n",
              "    </tr>\n",
              "    <tr>\n",
              "      <th>75%</th>\n",
              "      <td>-118.0</td>\n",
              "      <td>37.7</td>\n",
              "      <td>37.0</td>\n",
              "      <td>3151.2</td>\n",
              "      <td>648.2</td>\n",
              "      <td>1721.0</td>\n",
              "      <td>605.2</td>\n",
              "      <td>4.8</td>\n",
              "      <td>265000.0</td>\n",
              "    </tr>\n",
              "    <tr>\n",
              "      <th>max</th>\n",
              "      <td>-114.3</td>\n",
              "      <td>42.0</td>\n",
              "      <td>52.0</td>\n",
              "      <td>37937.0</td>\n",
              "      <td>6445.0</td>\n",
              "      <td>35682.0</td>\n",
              "      <td>6082.0</td>\n",
              "      <td>15.0</td>\n",
              "      <td>500001.0</td>\n",
              "    </tr>\n",
              "  </tbody>\n",
              "</table>\n",
              "</div>"
            ],
            "text/plain": [
              "       longitude  latitude  ...  median_income  median_house_value\n",
              "count    17000.0   17000.0  ...        17000.0             17000.0\n",
              "mean      -119.6      35.6  ...            3.9            207300.9\n",
              "std          2.0       2.1  ...            1.9            115983.8\n",
              "min       -124.3      32.5  ...            0.5             14999.0\n",
              "25%       -121.8      33.9  ...            2.6            119400.0\n",
              "50%       -118.5      34.2  ...            3.5            180400.0\n",
              "75%       -118.0      37.7  ...            4.8            265000.0\n",
              "max       -114.3      42.0  ...           15.0            500001.0\n",
              "\n",
              "[8 rows x 9 columns]"
            ]
          },
          "metadata": {
            "tags": []
          },
          "execution_count": 12
        }
      ]
    },
    {
      "cell_type": "markdown",
      "metadata": {
        "id": "q_vuAQq0Cvrp"
      },
      "source": [
        "## Preprocess the data\n",
        "\n",
        "* **Shuffle** the training data\n",
        "* **Normalize** the training and test data\n",
        "  * Convert each raw value (including the label) to its **Z-score**.\n",
        "    * A **Z-score** is the **number of standard deviations from the mean for a particular raw value**.\n",
        "    * `Z-score = (value - mean) / std.dev`\n",
        "* **Create binary labels**\n",
        "  * Set *threshold*\n",
        "  * If label > threshold => label = 1\n",
        "  * If label < threshold => label = 0"
      ]
    },
    {
      "cell_type": "code",
      "metadata": {
        "id": "i--vRCXyX1Vd"
      },
      "source": [
        "## shuffle training data\n",
        "train_df = train_df.reindex(np.random.permutation(train_df.index))"
      ],
      "execution_count": null,
      "outputs": []
    },
    {
      "cell_type": "code",
      "metadata": {
        "id": "e2WoHL2NT6ud"
      },
      "source": [
        "## normalize the training and testing set using z-value\n",
        "train_df_norm = (train_df - train_df.mean())/train_df.std()\n",
        "test_df_norm = (test_df - test_df.mean())/test_df.std()"
      ],
      "execution_count": null,
      "outputs": []
    },
    {
      "cell_type": "code",
      "metadata": {
        "id": "BetNSE8kX76h"
      },
      "source": [
        "## create binary labels for training set\n",
        "threshold_train = train_df_norm.median_house_value.quantile(.75) # 75 percentile\n",
        "train_df_norm[\"median_house_value_is_high\"] = train_df_norm[\"median_house_value\"] > threshold_train # binary label based on threshold\n",
        "train_df_norm[\"median_house_value_is_high\"] = train_df_norm[\"median_house_value_is_high\"].astype(float) # bool to float\n",
        "\n",
        "## create binary labels for test set\n",
        "threshold_test = test_df_norm.median_house_value.quantile(.75) # 75 percentile\n",
        "test_df_norm[\"median_house_value_is_high\"] = test_df_norm[\"median_house_value\"] > threshold_test # binary label based on threshold\n",
        "test_df_norm[\"median_house_value_is_high\"] = test_df_norm[\"median_house_value_is_high\"].astype(float) # bool to float"
      ],
      "execution_count": null,
      "outputs": []
    },
    {
      "cell_type": "markdown",
      "metadata": {
        "id": "j_efWynyc2kc"
      },
      "source": [
        "## Explore the training data\n",
        "* Check the features\n",
        "* Find the correlation features with label"
      ]
    },
    {
      "cell_type": "code",
      "metadata": {
        "colab": {
          "base_uri": "https://localhost:8080/",
          "height": 317
        },
        "id": "REMWnDUjc5vJ",
        "outputId": "ec5ef4a6-ee09-4528-ff0f-8282c3beaa9f"
      },
      "source": [
        "train_df_norm.describe()"
      ],
      "execution_count": null,
      "outputs": [
        {
          "output_type": "execute_result",
          "data": {
            "text/html": [
              "<div>\n",
              "<style scoped>\n",
              "    .dataframe tbody tr th:only-of-type {\n",
              "        vertical-align: middle;\n",
              "    }\n",
              "\n",
              "    .dataframe tbody tr th {\n",
              "        vertical-align: top;\n",
              "    }\n",
              "\n",
              "    .dataframe thead th {\n",
              "        text-align: right;\n",
              "    }\n",
              "</style>\n",
              "<table border=\"1\" class=\"dataframe\">\n",
              "  <thead>\n",
              "    <tr style=\"text-align: right;\">\n",
              "      <th></th>\n",
              "      <th>longitude</th>\n",
              "      <th>latitude</th>\n",
              "      <th>housing_median_age</th>\n",
              "      <th>total_rooms</th>\n",
              "      <th>total_bedrooms</th>\n",
              "      <th>population</th>\n",
              "      <th>households</th>\n",
              "      <th>median_income</th>\n",
              "      <th>median_house_value</th>\n",
              "      <th>median_house_value_is_high</th>\n",
              "    </tr>\n",
              "  </thead>\n",
              "  <tbody>\n",
              "    <tr>\n",
              "      <th>count</th>\n",
              "      <td>17000.0</td>\n",
              "      <td>17000.0</td>\n",
              "      <td>17000.0</td>\n",
              "      <td>17000.0</td>\n",
              "      <td>17000.0</td>\n",
              "      <td>17000.0</td>\n",
              "      <td>17000.0</td>\n",
              "      <td>17000.0</td>\n",
              "      <td>17000.0</td>\n",
              "      <td>17000.0</td>\n",
              "    </tr>\n",
              "    <tr>\n",
              "      <th>mean</th>\n",
              "      <td>-0.0</td>\n",
              "      <td>-0.0</td>\n",
              "      <td>-0.0</td>\n",
              "      <td>-0.0</td>\n",
              "      <td>-0.0</td>\n",
              "      <td>0.0</td>\n",
              "      <td>0.0</td>\n",
              "      <td>-0.0</td>\n",
              "      <td>-0.0</td>\n",
              "      <td>0.2</td>\n",
              "    </tr>\n",
              "    <tr>\n",
              "      <th>std</th>\n",
              "      <td>1.0</td>\n",
              "      <td>1.0</td>\n",
              "      <td>1.0</td>\n",
              "      <td>1.0</td>\n",
              "      <td>1.0</td>\n",
              "      <td>1.0</td>\n",
              "      <td>1.0</td>\n",
              "      <td>1.0</td>\n",
              "      <td>1.0</td>\n",
              "      <td>0.4</td>\n",
              "    </tr>\n",
              "    <tr>\n",
              "      <th>min</th>\n",
              "      <td>-2.4</td>\n",
              "      <td>-1.4</td>\n",
              "      <td>-2.2</td>\n",
              "      <td>-1.2</td>\n",
              "      <td>-1.3</td>\n",
              "      <td>-1.2</td>\n",
              "      <td>-1.3</td>\n",
              "      <td>-1.8</td>\n",
              "      <td>-1.7</td>\n",
              "      <td>0.0</td>\n",
              "    </tr>\n",
              "    <tr>\n",
              "      <th>25%</th>\n",
              "      <td>-1.1</td>\n",
              "      <td>-0.8</td>\n",
              "      <td>-0.8</td>\n",
              "      <td>-0.5</td>\n",
              "      <td>-0.6</td>\n",
              "      <td>-0.6</td>\n",
              "      <td>-0.6</td>\n",
              "      <td>-0.7</td>\n",
              "      <td>-0.8</td>\n",
              "      <td>0.0</td>\n",
              "    </tr>\n",
              "    <tr>\n",
              "      <th>50%</th>\n",
              "      <td>0.5</td>\n",
              "      <td>-0.6</td>\n",
              "      <td>0.0</td>\n",
              "      <td>-0.2</td>\n",
              "      <td>-0.3</td>\n",
              "      <td>-0.2</td>\n",
              "      <td>-0.2</td>\n",
              "      <td>-0.2</td>\n",
              "      <td>-0.2</td>\n",
              "      <td>0.0</td>\n",
              "    </tr>\n",
              "    <tr>\n",
              "      <th>75%</th>\n",
              "      <td>0.8</td>\n",
              "      <td>1.0</td>\n",
              "      <td>0.7</td>\n",
              "      <td>0.2</td>\n",
              "      <td>0.3</td>\n",
              "      <td>0.3</td>\n",
              "      <td>0.3</td>\n",
              "      <td>0.5</td>\n",
              "      <td>0.5</td>\n",
              "      <td>0.0</td>\n",
              "    </tr>\n",
              "    <tr>\n",
              "      <th>max</th>\n",
              "      <td>2.6</td>\n",
              "      <td>3.0</td>\n",
              "      <td>1.9</td>\n",
              "      <td>16.2</td>\n",
              "      <td>14.0</td>\n",
              "      <td>29.8</td>\n",
              "      <td>14.5</td>\n",
              "      <td>5.8</td>\n",
              "      <td>2.5</td>\n",
              "      <td>1.0</td>\n",
              "    </tr>\n",
              "  </tbody>\n",
              "</table>\n",
              "</div>"
            ],
            "text/plain": [
              "       longitude  latitude  ...  median_house_value  median_house_value_is_high\n",
              "count    17000.0   17000.0  ...             17000.0                     17000.0\n",
              "mean        -0.0      -0.0  ...                -0.0                         0.2\n",
              "std          1.0       1.0  ...                 1.0                         0.4\n",
              "min         -2.4      -1.4  ...                -1.7                         0.0\n",
              "25%         -1.1      -0.8  ...                -0.8                         0.0\n",
              "50%          0.5      -0.6  ...                -0.2                         0.0\n",
              "75%          0.8       1.0  ...                 0.5                         0.0\n",
              "max          2.6       3.0  ...                 2.5                         1.0\n",
              "\n",
              "[8 rows x 10 columns]"
            ]
          },
          "metadata": {
            "tags": []
          },
          "execution_count": 16
        }
      ]
    },
    {
      "cell_type": "code",
      "metadata": {
        "colab": {
          "base_uri": "https://localhost:8080/",
          "height": 379
        },
        "id": "oT5oQdEwdEVx",
        "outputId": "e5496281-c1ec-448d-c3e2-21f690987f56"
      },
      "source": [
        "train_df_norm.corr()"
      ],
      "execution_count": null,
      "outputs": [
        {
          "output_type": "execute_result",
          "data": {
            "text/html": [
              "<div>\n",
              "<style scoped>\n",
              "    .dataframe tbody tr th:only-of-type {\n",
              "        vertical-align: middle;\n",
              "    }\n",
              "\n",
              "    .dataframe tbody tr th {\n",
              "        vertical-align: top;\n",
              "    }\n",
              "\n",
              "    .dataframe thead th {\n",
              "        text-align: right;\n",
              "    }\n",
              "</style>\n",
              "<table border=\"1\" class=\"dataframe\">\n",
              "  <thead>\n",
              "    <tr style=\"text-align: right;\">\n",
              "      <th></th>\n",
              "      <th>longitude</th>\n",
              "      <th>latitude</th>\n",
              "      <th>housing_median_age</th>\n",
              "      <th>total_rooms</th>\n",
              "      <th>total_bedrooms</th>\n",
              "      <th>population</th>\n",
              "      <th>households</th>\n",
              "      <th>median_income</th>\n",
              "      <th>median_house_value</th>\n",
              "      <th>median_house_value_is_high</th>\n",
              "    </tr>\n",
              "  </thead>\n",
              "  <tbody>\n",
              "    <tr>\n",
              "      <th>longitude</th>\n",
              "      <td>1.0</td>\n",
              "      <td>-0.9</td>\n",
              "      <td>-0.1</td>\n",
              "      <td>0.0</td>\n",
              "      <td>0.1</td>\n",
              "      <td>0.1</td>\n",
              "      <td>0.1</td>\n",
              "      <td>-0.0</td>\n",
              "      <td>-0.0</td>\n",
              "      <td>-0.1</td>\n",
              "    </tr>\n",
              "    <tr>\n",
              "      <th>latitude</th>\n",
              "      <td>-0.9</td>\n",
              "      <td>1.0</td>\n",
              "      <td>0.0</td>\n",
              "      <td>-0.0</td>\n",
              "      <td>-0.1</td>\n",
              "      <td>-0.1</td>\n",
              "      <td>-0.1</td>\n",
              "      <td>-0.1</td>\n",
              "      <td>-0.1</td>\n",
              "      <td>-0.1</td>\n",
              "    </tr>\n",
              "    <tr>\n",
              "      <th>housing_median_age</th>\n",
              "      <td>-0.1</td>\n",
              "      <td>0.0</td>\n",
              "      <td>1.0</td>\n",
              "      <td>-0.4</td>\n",
              "      <td>-0.3</td>\n",
              "      <td>-0.3</td>\n",
              "      <td>-0.3</td>\n",
              "      <td>-0.1</td>\n",
              "      <td>0.1</td>\n",
              "      <td>0.1</td>\n",
              "    </tr>\n",
              "    <tr>\n",
              "      <th>total_rooms</th>\n",
              "      <td>0.0</td>\n",
              "      <td>-0.0</td>\n",
              "      <td>-0.4</td>\n",
              "      <td>1.0</td>\n",
              "      <td>0.9</td>\n",
              "      <td>0.9</td>\n",
              "      <td>0.9</td>\n",
              "      <td>0.2</td>\n",
              "      <td>0.1</td>\n",
              "      <td>0.1</td>\n",
              "    </tr>\n",
              "    <tr>\n",
              "      <th>total_bedrooms</th>\n",
              "      <td>0.1</td>\n",
              "      <td>-0.1</td>\n",
              "      <td>-0.3</td>\n",
              "      <td>0.9</td>\n",
              "      <td>1.0</td>\n",
              "      <td>0.9</td>\n",
              "      <td>1.0</td>\n",
              "      <td>-0.0</td>\n",
              "      <td>0.0</td>\n",
              "      <td>0.0</td>\n",
              "    </tr>\n",
              "    <tr>\n",
              "      <th>population</th>\n",
              "      <td>0.1</td>\n",
              "      <td>-0.1</td>\n",
              "      <td>-0.3</td>\n",
              "      <td>0.9</td>\n",
              "      <td>0.9</td>\n",
              "      <td>1.0</td>\n",
              "      <td>0.9</td>\n",
              "      <td>-0.0</td>\n",
              "      <td>-0.0</td>\n",
              "      <td>-0.0</td>\n",
              "    </tr>\n",
              "    <tr>\n",
              "      <th>households</th>\n",
              "      <td>0.1</td>\n",
              "      <td>-0.1</td>\n",
              "      <td>-0.3</td>\n",
              "      <td>0.9</td>\n",
              "      <td>1.0</td>\n",
              "      <td>0.9</td>\n",
              "      <td>1.0</td>\n",
              "      <td>0.0</td>\n",
              "      <td>0.1</td>\n",
              "      <td>0.0</td>\n",
              "    </tr>\n",
              "    <tr>\n",
              "      <th>median_income</th>\n",
              "      <td>-0.0</td>\n",
              "      <td>-0.1</td>\n",
              "      <td>-0.1</td>\n",
              "      <td>0.2</td>\n",
              "      <td>-0.0</td>\n",
              "      <td>-0.0</td>\n",
              "      <td>0.0</td>\n",
              "      <td>1.0</td>\n",
              "      <td>0.7</td>\n",
              "      <td>0.6</td>\n",
              "    </tr>\n",
              "    <tr>\n",
              "      <th>median_house_value</th>\n",
              "      <td>-0.0</td>\n",
              "      <td>-0.1</td>\n",
              "      <td>0.1</td>\n",
              "      <td>0.1</td>\n",
              "      <td>0.0</td>\n",
              "      <td>-0.0</td>\n",
              "      <td>0.1</td>\n",
              "      <td>0.7</td>\n",
              "      <td>1.0</td>\n",
              "      <td>0.8</td>\n",
              "    </tr>\n",
              "    <tr>\n",
              "      <th>median_house_value_is_high</th>\n",
              "      <td>-0.1</td>\n",
              "      <td>-0.1</td>\n",
              "      <td>0.1</td>\n",
              "      <td>0.1</td>\n",
              "      <td>0.0</td>\n",
              "      <td>-0.0</td>\n",
              "      <td>0.0</td>\n",
              "      <td>0.6</td>\n",
              "      <td>0.8</td>\n",
              "      <td>1.0</td>\n",
              "    </tr>\n",
              "  </tbody>\n",
              "</table>\n",
              "</div>"
            ],
            "text/plain": [
              "                            longitude  ...  median_house_value_is_high\n",
              "longitude                         1.0  ...                        -0.1\n",
              "latitude                         -0.9  ...                        -0.1\n",
              "housing_median_age               -0.1  ...                         0.1\n",
              "total_rooms                       0.0  ...                         0.1\n",
              "total_bedrooms                    0.1  ...                         0.0\n",
              "population                        0.1  ...                        -0.0\n",
              "households                        0.1  ...                         0.0\n",
              "median_income                    -0.0  ...                         0.6\n",
              "median_house_value               -0.0  ...                         0.8\n",
              "median_house_value_is_high       -0.1  ...                         1.0\n",
              "\n",
              "[10 rows x 10 columns]"
            ]
          },
          "metadata": {
            "tags": []
          },
          "execution_count": 17
        }
      ]
    },
    {
      "cell_type": "markdown",
      "metadata": {
        "id": "TVY3nhTTbUvA"
      },
      "source": [
        "## Feature Representation\n",
        "\n",
        "* Pick the features with significant correlation with the label\n",
        "* Represent the selected features in the required form\n",
        "* Create a feature layer to be fed to the model"
      ]
    },
    {
      "cell_type": "code",
      "metadata": {
        "id": "3tmmZIDw4JEC",
        "colab": {
          "base_uri": "https://localhost:8080/"
        },
        "outputId": "324c6326-ae5d-4e3b-9775-b2986c243880"
      },
      "source": [
        "# Feature representation \n",
        "\n",
        "# Create location = cross of latitute and longitude \n",
        "# To Floating-point\n",
        "latitude_numeric = tf.feature_column.numeric_column(\"latitude\")\n",
        "longitude_numeric = tf.feature_column.numeric_column(\"longitude\")\n",
        "# To Buckets\n",
        "resolution_in_degrees = 1.0\n",
        "latitude_boundaries = list(np.arange(int(min(train_df['latitude'])), int(max(train_df['latitude'])), resolution_in_degrees))\n",
        "longitude_boundaries = list(np.arange(int(min(train_df['longitude'])), int(max(train_df['longitude'])), resolution_in_degrees))\n",
        "latitude = tf.feature_column.bucketized_column(latitude_numeric, latitude_boundaries)\n",
        "longitude = tf.feature_column.bucketized_column(longitude_numeric, longitude_boundaries)\n",
        "# Feature Cross\n",
        "latitude_x_longitude = tf.feature_column.crossed_column([latitude, longitude], hash_bucket_size=100)\n",
        "location = tf.feature_column.indicator_column(latitude_x_longitude)\n",
        "\n",
        "# Create feature layer to be fed into the model. \n",
        "feature_columns = []\n",
        "feature_columns.append(location)\n",
        "feature_columns.append(tf.feature_column.numeric_column(\"housing_median_age\"))\n",
        "feature_columns.append(tf.feature_column.numeric_column(\"total_rooms\"))\n",
        "feature_columns.append(tf.feature_column.numeric_column(\"median_income\"))\n",
        "feature_layer = layers.DenseFeatures(feature_columns)\n",
        "\n",
        "# Print the first 3 and last 3 rows of the feature_layer's output when applied to train_df_norm:\n",
        "feature_layer(dict(train_df_norm))"
      ],
      "execution_count": null,
      "outputs": [
        {
          "output_type": "execute_result",
          "data": {
            "text/plain": [
              "<tf.Tensor: shape=(17000, 103), dtype=float32, numpy=\n",
              "array([[-0.12627003,  0.        ,  0.        , ...,  0.        ,\n",
              "        -0.25342685, -0.58609885],\n",
              "       [ 0.9859942 ,  0.        ,  0.        , ...,  0.        ,\n",
              "        -0.9911546 , -0.6365588 ],\n",
              "       [ 0.19151975,  0.        ,  0.        , ...,  0.        ,\n",
              "        -0.20416464, -0.13517044],\n",
              "       ...,\n",
              "       [-1.8741138 ,  0.        ,  0.        , ...,  0.        ,\n",
              "         0.68978715,  1.4800063 ],\n",
              "       [-0.6029547 ,  0.        ,  0.        , ...,  0.        ,\n",
              "         0.5926778 ,  3.2860136 ],\n",
              "       [-0.52350724,  0.        ,  0.        , ...,  0.        ,\n",
              "        -0.97663796, -0.72738665]], dtype=float32)>"
            ]
          },
          "metadata": {
            "tags": []
          },
          "execution_count": 20
        }
      ]
    },
    {
      "cell_type": "markdown",
      "metadata": {
        "id": "3014ezH3C7jT"
      },
      "source": [
        "## Define functions for build and train a model, and plotting\n",
        "\n",
        "* `create_model(my_learning_rate, feature_layer, my_metrics)`, which defines the model's topography.\n",
        "* `train_model(model, dataset, epochs, label_name, batch_size, shuffle)`, uses input features and labels to train the model.\n",
        "  * For classification, we use [sigmoid](https://developers.google.com/machine-learning/glossary#sigmoid_function) as the activation function. \n",
        "* `plot_curve`"
      ]
    },
    {
      "cell_type": "code",
      "metadata": {
        "id": "pedD5GhlDC-y"
      },
      "source": [
        "def create_model(lr, feature_layer, my_metrics):\n",
        "  model = tf.keras.models.Sequential()\n",
        "  model.add(feature_layer)\n",
        "  model.add(tf.keras.layers.Dense(units=1, input_shape=(1,), activation=tf.sigmoid),)\n",
        "  model.compile(\n",
        "      loss=tf.keras.losses.BinaryCrossentropy(),\n",
        "      metrics=my_metrics,\n",
        "      optimizer=tf.keras.optimizers.RMSprop(lr=lr),\n",
        "  )\n",
        "  return model        \n",
        "\n",
        "def train_model(model, dataset, epochs, label_name, batch_size=None, shuffle=True):\n",
        "  features = {name:np.array(value) for name, value in dataset.items()}\n",
        "  label = np.array(features.pop(label_name)) \n",
        "  history = model.fit(x=features, y=label, batch_size=batch_size, epochs=epochs, shuffle=shuffle)\n",
        "  epochs = history.epoch\n",
        "  hist = pd.DataFrame(history.history)\n",
        "  return epochs, hist\n",
        "  \n",
        "def plot_curve(epochs, hist, list_of_metrics):\n",
        "  plt.figure()\n",
        "  plt.xlabel(\"Epoch\")\n",
        "  plt.ylabel(\"Value\")\n",
        "  for m in list_of_metrics:\n",
        "    x = hist[m]\n",
        "    plt.plot(epochs[1:], x[1:], label=m)\n",
        "  plt.legend()"
      ],
      "execution_count": null,
      "outputs": []
    },
    {
      "cell_type": "markdown",
      "metadata": {
        "id": "D-IXYVfvM4gD"
      },
      "source": [
        "## Task 1: Create and Train Model with **Accuracy** metric"
      ]
    },
    {
      "cell_type": "code",
      "metadata": {
        "id": "nj3v5EKQFY8s",
        "cellView": "both",
        "colab": {
          "base_uri": "https://localhost:8080/",
          "height": 1000
        },
        "outputId": "07fe84ba-2d89-4633-c367-577ee917ed58"
      },
      "source": [
        "# Set hyperparameters.\n",
        "lr = 0.001\n",
        "epochs = 20\n",
        "batch_size = 100\n",
        "label_name = \"median_house_value_is_high\"\n",
        "classification_threshold = 0.35\n",
        "\n",
        "# Establish the metrics the model will measure.\n",
        "METRICS = [tf.keras.metrics.BinaryAccuracy(\n",
        "    name='accuracy', threshold=classification_threshold),\n",
        "]\n",
        "\n",
        "# Establish the model's topography.\n",
        "my_model = create_model(lr, feature_layer, METRICS)\n",
        "\n",
        "# Train the model on the training set.\n",
        "epochs, hist = train_model(my_model, train_df_norm, epochs, label_name, batch_size)\n",
        "\n",
        "# Plot a graph of the metric(s) vs. epochs.\n",
        "list_of_metrics_to_plot = ['accuracy'] \n",
        "plot_curve(epochs, hist, list_of_metrics_to_plot)"
      ],
      "execution_count": null,
      "outputs": [
        {
          "output_type": "stream",
          "text": [
            "Epoch 1/20\n",
            "WARNING:tensorflow:Layers in a Sequential model should only have a single input tensor, but we receive a <class 'dict'> input: {'longitude': <tf.Tensor 'ExpandDims_3:0' shape=(100, 1) dtype=float32>, 'latitude': <tf.Tensor 'ExpandDims_2:0' shape=(100, 1) dtype=float32>, 'housing_median_age': <tf.Tensor 'ExpandDims_1:0' shape=(100, 1) dtype=float32>, 'total_rooms': <tf.Tensor 'ExpandDims_8:0' shape=(100, 1) dtype=float32>, 'total_bedrooms': <tf.Tensor 'ExpandDims_7:0' shape=(100, 1) dtype=float32>, 'population': <tf.Tensor 'ExpandDims_6:0' shape=(100, 1) dtype=float32>, 'households': <tf.Tensor 'ExpandDims:0' shape=(100, 1) dtype=float32>, 'median_income': <tf.Tensor 'ExpandDims_5:0' shape=(100, 1) dtype=float32>, 'median_house_value': <tf.Tensor 'ExpandDims_4:0' shape=(100, 1) dtype=float32>}\n",
            "Consider rewriting this model with the Functional API.\n",
            "WARNING:tensorflow:Layers in a Sequential model should only have a single input tensor, but we receive a <class 'dict'> input: {'longitude': <tf.Tensor 'ExpandDims_3:0' shape=(100, 1) dtype=float32>, 'latitude': <tf.Tensor 'ExpandDims_2:0' shape=(100, 1) dtype=float32>, 'housing_median_age': <tf.Tensor 'ExpandDims_1:0' shape=(100, 1) dtype=float32>, 'total_rooms': <tf.Tensor 'ExpandDims_8:0' shape=(100, 1) dtype=float32>, 'total_bedrooms': <tf.Tensor 'ExpandDims_7:0' shape=(100, 1) dtype=float32>, 'population': <tf.Tensor 'ExpandDims_6:0' shape=(100, 1) dtype=float32>, 'households': <tf.Tensor 'ExpandDims:0' shape=(100, 1) dtype=float32>, 'median_income': <tf.Tensor 'ExpandDims_5:0' shape=(100, 1) dtype=float32>, 'median_house_value': <tf.Tensor 'ExpandDims_4:0' shape=(100, 1) dtype=float32>}\n",
            "Consider rewriting this model with the Functional API.\n",
            "170/170 [==============================] - 2s 2ms/step - loss: 0.7255 - accuracy: 0.2367\n",
            "Epoch 2/20\n",
            "170/170 [==============================] - 0s 2ms/step - loss: 0.6126 - accuracy: 0.3438\n",
            "Epoch 3/20\n",
            "170/170 [==============================] - 0s 2ms/step - loss: 0.5389 - accuracy: 0.6856\n",
            "Epoch 4/20\n",
            "170/170 [==============================] - 0s 2ms/step - loss: 0.4870 - accuracy: 0.8223\n",
            "Epoch 5/20\n",
            "170/170 [==============================] - 0s 3ms/step - loss: 0.4565 - accuracy: 0.8357\n",
            "Epoch 6/20\n",
            "170/170 [==============================] - 0s 3ms/step - loss: 0.4358 - accuracy: 0.8433\n",
            "Epoch 7/20\n",
            "170/170 [==============================] - 0s 3ms/step - loss: 0.4149 - accuracy: 0.8449\n",
            "Epoch 8/20\n",
            "170/170 [==============================] - 0s 3ms/step - loss: 0.3999 - accuracy: 0.8437\n",
            "Epoch 9/20\n",
            "170/170 [==============================] - 0s 2ms/step - loss: 0.3905 - accuracy: 0.8374\n",
            "Epoch 10/20\n",
            "170/170 [==============================] - 0s 2ms/step - loss: 0.3782 - accuracy: 0.8412\n",
            "Epoch 11/20\n",
            "170/170 [==============================] - 0s 2ms/step - loss: 0.3838 - accuracy: 0.8294\n",
            "Epoch 12/20\n",
            "170/170 [==============================] - 0s 2ms/step - loss: 0.3841 - accuracy: 0.8325\n",
            "Epoch 13/20\n",
            "170/170 [==============================] - 1s 3ms/step - loss: 0.3758 - accuracy: 0.8301\n",
            "Epoch 14/20\n",
            "170/170 [==============================] - 1s 3ms/step - loss: 0.3747 - accuracy: 0.8268\n",
            "Epoch 15/20\n",
            "170/170 [==============================] - 0s 2ms/step - loss: 0.3763 - accuracy: 0.8229\n",
            "Epoch 16/20\n",
            "170/170 [==============================] - 0s 2ms/step - loss: 0.3699 - accuracy: 0.8284\n",
            "Epoch 17/20\n",
            "170/170 [==============================] - 0s 3ms/step - loss: 0.3664 - accuracy: 0.8282\n",
            "Epoch 18/20\n",
            "170/170 [==============================] - 0s 3ms/step - loss: 0.3758 - accuracy: 0.8246\n",
            "Epoch 19/20\n",
            "170/170 [==============================] - 0s 3ms/step - loss: 0.3740 - accuracy: 0.8247\n",
            "Epoch 20/20\n",
            "170/170 [==============================] - 0s 2ms/step - loss: 0.3762 - accuracy: 0.8221\n"
          ],
          "name": "stdout"
        },
        {
          "output_type": "display_data",
          "data": {
            "image/png": "[encoded data removed]",
            "text/plain": [
              "<Figure size 432x288 with 1 Axes>"
            ]
          },
          "metadata": {
            "tags": [],
            "needs_background": "light"
          }
        }
      ]
    },
    {
      "cell_type": "markdown",
      "metadata": {
        "id": "FF64TpqkbOpn"
      },
      "source": [
        "**Observation**: Accuracy gradually improves during training (until it can improve no more)."
      ]
    },
    {
      "cell_type": "markdown",
      "metadata": {
        "id": "1xNqWWos_zyk"
      },
      "source": [
        "## Evaluate the Model"
      ]
    },
    {
      "cell_type": "code",
      "metadata": {
        "id": "eJorkMlDmtHf",
        "colab": {
          "base_uri": "https://localhost:8080/"
        },
        "outputId": "661530aa-bee2-4756-d0d3-3ebb2dc3fdc4"
      },
      "source": [
        "features = {name:np.array(value) for name, value in test_df_norm.items()}\n",
        "label = np.array(features.pop(label_name))\n",
        "\n",
        "my_model.evaluate(x = features, y = label, batch_size=batch_size)"
      ],
      "execution_count": null,
      "outputs": [
        {
          "output_type": "stream",
          "text": [
            "WARNING:tensorflow:Layers in a Sequential model should only have a single input tensor, but we receive a <class 'dict'> input: {'longitude': <tf.Tensor 'ExpandDims_3:0' shape=(100, 1) dtype=float32>, 'latitude': <tf.Tensor 'ExpandDims_2:0' shape=(100, 1) dtype=float32>, 'housing_median_age': <tf.Tensor 'ExpandDims_1:0' shape=(100, 1) dtype=float32>, 'total_rooms': <tf.Tensor 'ExpandDims_8:0' shape=(100, 1) dtype=float32>, 'total_bedrooms': <tf.Tensor 'ExpandDims_7:0' shape=(100, 1) dtype=float32>, 'population': <tf.Tensor 'ExpandDims_6:0' shape=(100, 1) dtype=float32>, 'households': <tf.Tensor 'ExpandDims:0' shape=(100, 1) dtype=float32>, 'median_income': <tf.Tensor 'ExpandDims_5:0' shape=(100, 1) dtype=float32>, 'median_house_value': <tf.Tensor 'ExpandDims_4:0' shape=(100, 1) dtype=float32>}\n",
            "Consider rewriting this model with the Functional API.\n",
            "30/30 [==============================] - 0s 3ms/step - loss: 0.3818 - accuracy: 0.8250\n"
          ],
          "name": "stdout"
        },
        {
          "output_type": "execute_result",
          "data": {
            "text/plain": [
              "[0.3818299174308777, 0.824999988079071]"
            ]
          },
          "metadata": {
            "tags": []
          },
          "execution_count": 23
        }
      ]
    },
    {
      "cell_type": "markdown",
      "metadata": {
        "id": "2frLXrKzl8Vl"
      },
      "source": [
        "A perfect model would make 100% accurate predictions.\n",
        "Our model makes 82% accurate predictions. \n",
        "\n",
        "**Note**: A model that always guesses *median_house_value_is_high* as False would be 75% accurate."
      ]
    },
    {
      "cell_type": "markdown",
      "metadata": {
        "id": "C8crSCCVf6gm"
      },
      "source": [
        "## Task 2: Create and Train model with **Accuracy, Precision, and Recall** metrics\n",
        "\n"
      ]
    },
    {
      "cell_type": "code",
      "metadata": {
        "id": "r-k1MD2XArmO",
        "colab": {
          "base_uri": "https://localhost:8080/",
          "height": 1000
        },
        "outputId": "ed0da7f3-5f61-46b5-b104-c3bc9398d1a9"
      },
      "source": [
        "# Set the hyperparameters.\n",
        "learning_rate = 0.001\n",
        "epochs = 20\n",
        "batch_size = 100\n",
        "classification_threshold = 0.35\n",
        "label_name = \"median_house_value_is_high\"\n",
        "\n",
        "# Modify the following definition of METRICS to generate\n",
        "# not only accuracy and precision, but also recall:\n",
        "METRICS = [\n",
        "      tf.keras.metrics.BinaryAccuracy(name='accuracy', threshold=classification_threshold),\n",
        "      tf.keras.metrics.Precision(name='precision', thresholds=classification_threshold),\n",
        "      tf.keras.metrics.Recall(name='recall', thresholds=classification_threshold)\n",
        "]\n",
        "\n",
        "# Establish the model's topography.\n",
        "my_model = create_model(learning_rate, feature_layer, METRICS)\n",
        "\n",
        "# Train the model on the training set.\n",
        "epochs, hist = train_model(my_model, train_df_norm, epochs, label_name, batch_size)\n",
        "\n",
        "# Plot metrics vs. epochs\n",
        "list_of_metrics_to_plot = ['accuracy', 'precision', 'recall'] \n",
        "plot_curve(epochs, hist, list_of_metrics_to_plot)"
      ],
      "execution_count": null,
      "outputs": [
        {
          "output_type": "stream",
          "text": [
            "Epoch 1/20\n",
            "WARNING:tensorflow:Layers in a Sequential model should only have a single input tensor, but we receive a <class 'dict'> input: {'longitude': <tf.Tensor 'ExpandDims_3:0' shape=(100, 1) dtype=float32>, 'latitude': <tf.Tensor 'ExpandDims_2:0' shape=(100, 1) dtype=float32>, 'housing_median_age': <tf.Tensor 'ExpandDims_1:0' shape=(100, 1) dtype=float32>, 'total_rooms': <tf.Tensor 'ExpandDims_8:0' shape=(100, 1) dtype=float32>, 'total_bedrooms': <tf.Tensor 'ExpandDims_7:0' shape=(100, 1) dtype=float32>, 'population': <tf.Tensor 'ExpandDims_6:0' shape=(100, 1) dtype=float32>, 'households': <tf.Tensor 'ExpandDims:0' shape=(100, 1) dtype=float32>, 'median_income': <tf.Tensor 'ExpandDims_5:0' shape=(100, 1) dtype=float32>, 'median_house_value': <tf.Tensor 'ExpandDims_4:0' shape=(100, 1) dtype=float32>}\n",
            "Consider rewriting this model with the Functional API.\n",
            "WARNING:tensorflow:Layers in a Sequential model should only have a single input tensor, but we receive a <class 'dict'> input: {'longitude': <tf.Tensor 'ExpandDims_3:0' shape=(100, 1) dtype=float32>, 'latitude': <tf.Tensor 'ExpandDims_2:0' shape=(100, 1) dtype=float32>, 'housing_median_age': <tf.Tensor 'ExpandDims_1:0' shape=(100, 1) dtype=float32>, 'total_rooms': <tf.Tensor 'ExpandDims_8:0' shape=(100, 1) dtype=float32>, 'total_bedrooms': <tf.Tensor 'ExpandDims_7:0' shape=(100, 1) dtype=float32>, 'population': <tf.Tensor 'ExpandDims_6:0' shape=(100, 1) dtype=float32>, 'households': <tf.Tensor 'ExpandDims:0' shape=(100, 1) dtype=float32>, 'median_income': <tf.Tensor 'ExpandDims_5:0' shape=(100, 1) dtype=float32>, 'median_house_value': <tf.Tensor 'ExpandDims_4:0' shape=(100, 1) dtype=float32>}\n",
            "Consider rewriting this model with the Functional API.\n",
            "170/170 [==============================] - 1s 3ms/step - loss: 0.5931 - accuracy: 0.2968 - precision: 0.2597 - recall: 0.9893\n",
            "Epoch 2/20\n",
            "170/170 [==============================] - 1s 3ms/step - loss: 0.5084 - accuracy: 0.6354 - precision: 0.3966 - recall: 0.8992\n",
            "Epoch 3/20\n",
            "170/170 [==============================] - 1s 3ms/step - loss: 0.4559 - accuracy: 0.7923 - precision: 0.5637 - recall: 0.7502\n",
            "Epoch 4/20\n",
            "170/170 [==============================] - 1s 4ms/step - loss: 0.4223 - accuracy: 0.8366 - precision: 0.6750 - recall: 0.6395\n",
            "Epoch 5/20\n",
            "170/170 [==============================] - 1s 4ms/step - loss: 0.4058 - accuracy: 0.8431 - precision: 0.7073 - recall: 0.6269\n",
            "Epoch 6/20\n",
            "170/170 [==============================] - 1s 3ms/step - loss: 0.3999 - accuracy: 0.8349 - precision: 0.6907 - recall: 0.6313\n",
            "Epoch 7/20\n",
            "170/170 [==============================] - 1s 4ms/step - loss: 0.3863 - accuracy: 0.8343 - precision: 0.6735 - recall: 0.6441\n",
            "Epoch 8/20\n",
            "170/170 [==============================] - 1s 3ms/step - loss: 0.3771 - accuracy: 0.8379 - precision: 0.6799 - recall: 0.6642\n",
            "Epoch 9/20\n",
            "170/170 [==============================] - 1s 4ms/step - loss: 0.3796 - accuracy: 0.8332 - precision: 0.6651 - recall: 0.6547\n",
            "Epoch 10/20\n",
            "170/170 [==============================] - 1s 3ms/step - loss: 0.3779 - accuracy: 0.8301 - precision: 0.6624 - recall: 0.6640\n",
            "Epoch 11/20\n",
            "170/170 [==============================] - 1s 3ms/step - loss: 0.3717 - accuracy: 0.8294 - precision: 0.6620 - recall: 0.6700\n",
            "Epoch 12/20\n",
            "170/170 [==============================] - 1s 4ms/step - loss: 0.3632 - accuracy: 0.8353 - precision: 0.6601 - recall: 0.6828\n",
            "Epoch 13/20\n",
            "170/170 [==============================] - 1s 4ms/step - loss: 0.3759 - accuracy: 0.8255 - precision: 0.6472 - recall: 0.6700\n",
            "Epoch 14/20\n",
            "170/170 [==============================] - 1s 4ms/step - loss: 0.3812 - accuracy: 0.8222 - precision: 0.6497 - recall: 0.6565\n",
            "Epoch 15/20\n",
            "170/170 [==============================] - 1s 3ms/step - loss: 0.3736 - accuracy: 0.8245 - precision: 0.6351 - recall: 0.6519\n",
            "Epoch 16/20\n",
            "170/170 [==============================] - 1s 4ms/step - loss: 0.3710 - accuracy: 0.8274 - precision: 0.6521 - recall: 0.6758\n",
            "Epoch 17/20\n",
            "170/170 [==============================] - 1s 4ms/step - loss: 0.3661 - accuracy: 0.8294 - precision: 0.6496 - recall: 0.6760\n",
            "Epoch 18/20\n",
            "170/170 [==============================] - 1s 4ms/step - loss: 0.3768 - accuracy: 0.8255 - precision: 0.6484 - recall: 0.6601\n",
            "Epoch 19/20\n",
            "170/170 [==============================] - 1s 3ms/step - loss: 0.3726 - accuracy: 0.8266 - precision: 0.6489 - recall: 0.6716\n",
            "Epoch 20/20\n",
            "170/170 [==============================] - 1s 4ms/step - loss: 0.3732 - accuracy: 0.8247 - precision: 0.6524 - recall: 0.6710\n"
          ],
          "name": "stdout"
        },
        {
          "output_type": "display_data",
          "data": {
            "image/png": "[encoded data removed]",
            "text/plain": [
              "<Figure size 432x288 with 1 Axes>"
            ]
          },
          "metadata": {
            "tags": [],
            "needs_background": "light"
          }
        }
      ]
    },
    {
      "cell_type": "markdown",
      "metadata": {
        "id": "gq50WT0WoMr0"
      },
      "source": [
        "**Observation**: The precision and recall are somewhat in conflict. That is, improvements to one of those metrics may hurt the other metric."
      ]
    },
    {
      "cell_type": "markdown",
      "metadata": {
        "id": "cAsB85iKSXLe"
      },
      "source": [
        "## Task 3: Experiment with the classification threshold\n",
        "\n",
        "What value of `classification_threshold` produces the highest accuracy?"
      ]
    },
    {
      "cell_type": "code",
      "metadata": {
        "id": "FLPDYI7Sphnj",
        "colab": {
          "base_uri": "https://localhost:8080/",
          "height": 1000
        },
        "outputId": "a041e60a-35c8-4fe2-88c2-fb3aee31f451"
      },
      "source": [
        "classification_thresholds = [0.3, 0.52, 0.8]\n",
        "\n",
        "for classification_threshold in classification_thresholds:\n",
        "\n",
        "  # Set the hyperparameters.\n",
        "  learning_rate = 0.001\n",
        "  epochs = 20\n",
        "  batch_size = 100\n",
        "\n",
        "  label_name = \"median_house_value_is_high\"\n",
        "\n",
        "  METRICS = [\n",
        "        tf.keras.metrics.BinaryAccuracy(name='accuracy', threshold=classification_threshold),\n",
        "        tf.keras.metrics.Precision(name='precision', thresholds=classification_threshold),\n",
        "        tf.keras.metrics.Recall(name=\"recall\", thresholds=classification_threshold)\n",
        "  ]\n",
        "  print('classification threshold: ', ct)\n",
        "\n",
        "  my_model = create_model(learning_rate, feature_layer, METRICS)\n",
        "\n",
        "  epochs, hist = train_model(my_model, train_df_norm, epochs, label_name, batch_size)\n",
        "\n",
        "  list_of_metrics_to_plot = ['accuracy', \"precision\", \"recall\"]\n",
        "  plot_curve(epochs, hist, list_of_metrics_to_plot)"
      ],
      "execution_count": null,
      "outputs": [
        {
          "output_type": "stream",
          "text": [
            "classification threshold:  0.52\n",
            "Epoch 1/20\n",
            "WARNING:tensorflow:Layers in a Sequential model should only have a single input tensor, but we receive a <class 'dict'> input: {'longitude': <tf.Tensor 'ExpandDims_3:0' shape=(100, 1) dtype=float32>, 'latitude': <tf.Tensor 'ExpandDims_2:0' shape=(100, 1) dtype=float32>, 'housing_median_age': <tf.Tensor 'ExpandDims_1:0' shape=(100, 1) dtype=float32>, 'total_rooms': <tf.Tensor 'ExpandDims_8:0' shape=(100, 1) dtype=float32>, 'total_bedrooms': <tf.Tensor 'ExpandDims_7:0' shape=(100, 1) dtype=float32>, 'population': <tf.Tensor 'ExpandDims_6:0' shape=(100, 1) dtype=float32>, 'households': <tf.Tensor 'ExpandDims:0' shape=(100, 1) dtype=float32>, 'median_income': <tf.Tensor 'ExpandDims_5:0' shape=(100, 1) dtype=float32>, 'median_house_value': <tf.Tensor 'ExpandDims_4:0' shape=(100, 1) dtype=float32>}\n",
            "Consider rewriting this model with the Functional API.\n",
            "WARNING:tensorflow:Layers in a Sequential model should only have a single input tensor, but we receive a <class 'dict'> input: {'longitude': <tf.Tensor 'ExpandDims_3:0' shape=(100, 1) dtype=float32>, 'latitude': <tf.Tensor 'ExpandDims_2:0' shape=(100, 1) dtype=float32>, 'housing_median_age': <tf.Tensor 'ExpandDims_1:0' shape=(100, 1) dtype=float32>, 'total_rooms': <tf.Tensor 'ExpandDims_8:0' shape=(100, 1) dtype=float32>, 'total_bedrooms': <tf.Tensor 'ExpandDims_7:0' shape=(100, 1) dtype=float32>, 'population': <tf.Tensor 'ExpandDims_6:0' shape=(100, 1) dtype=float32>, 'households': <tf.Tensor 'ExpandDims:0' shape=(100, 1) dtype=float32>, 'median_income': <tf.Tensor 'ExpandDims_5:0' shape=(100, 1) dtype=float32>, 'median_house_value': <tf.Tensor 'ExpandDims_4:0' shape=(100, 1) dtype=float32>}\n",
            "Consider rewriting this model with the Functional API.\n",
            "170/170 [==============================] - 1s 4ms/step - loss: 0.6579 - accuracy: 0.2510 - precision: 0.2510 - recall: 1.0000\n",
            "Epoch 2/20\n",
            "170/170 [==============================] - 1s 4ms/step - loss: 0.5533 - accuracy: 0.2859 - precision: 0.2584 - recall: 0.9928\n",
            "Epoch 3/20\n",
            "170/170 [==============================] - 1s 4ms/step - loss: 0.4838 - accuracy: 0.6295 - precision: 0.3952 - recall: 0.9059\n",
            "Epoch 4/20\n",
            "170/170 [==============================] - 1s 4ms/step - loss: 0.4408 - accuracy: 0.7801 - precision: 0.5314 - recall: 0.7783\n",
            "Epoch 5/20\n",
            "170/170 [==============================] - 1s 4ms/step - loss: 0.4231 - accuracy: 0.8125 - precision: 0.6069 - recall: 0.7166\n",
            "Epoch 6/20\n",
            "170/170 [==============================] - 1s 4ms/step - loss: 0.4033 - accuracy: 0.8198 - precision: 0.6149 - recall: 0.7245\n",
            "Epoch 7/20\n",
            "170/170 [==============================] - 1s 4ms/step - loss: 0.3923 - accuracy: 0.8120 - precision: 0.6006 - recall: 0.7256\n",
            "Epoch 8/20\n",
            "170/170 [==============================] - 1s 4ms/step - loss: 0.3908 - accuracy: 0.8083 - precision: 0.5938 - recall: 0.7173\n",
            "Epoch 9/20\n",
            "170/170 [==============================] - 1s 4ms/step - loss: 0.3848 - accuracy: 0.8077 - precision: 0.5951 - recall: 0.7181\n",
            "Epoch 10/20\n",
            "170/170 [==============================] - 1s 4ms/step - loss: 0.3763 - accuracy: 0.8112 - precision: 0.5984 - recall: 0.7276\n",
            "Epoch 11/20\n",
            "170/170 [==============================] - 1s 4ms/step - loss: 0.3756 - accuracy: 0.8107 - precision: 0.5966 - recall: 0.7283\n",
            "Epoch 12/20\n",
            "170/170 [==============================] - 1s 4ms/step - loss: 0.3831 - accuracy: 0.8046 - precision: 0.6044 - recall: 0.7224\n",
            "Epoch 13/20\n",
            "170/170 [==============================] - 1s 4ms/step - loss: 0.3727 - accuracy: 0.8111 - precision: 0.6041 - recall: 0.7239\n",
            "Epoch 14/20\n",
            "170/170 [==============================] - 1s 4ms/step - loss: 0.3751 - accuracy: 0.8098 - precision: 0.5976 - recall: 0.7108\n",
            "Epoch 15/20\n",
            "170/170 [==============================] - 1s 4ms/step - loss: 0.3720 - accuracy: 0.8102 - precision: 0.5947 - recall: 0.7178\n",
            "Epoch 16/20\n",
            "170/170 [==============================] - 1s 4ms/step - loss: 0.3678 - accuracy: 0.8145 - precision: 0.6094 - recall: 0.7283\n",
            "Epoch 17/20\n",
            "170/170 [==============================] - 1s 4ms/step - loss: 0.3767 - accuracy: 0.8084 - precision: 0.6005 - recall: 0.7167\n",
            "Epoch 18/20\n",
            "170/170 [==============================] - 1s 4ms/step - loss: 0.3682 - accuracy: 0.8095 - precision: 0.5933 - recall: 0.7182\n",
            "Epoch 19/20\n",
            "170/170 [==============================] - 1s 4ms/step - loss: 0.3668 - accuracy: 0.8131 - precision: 0.6008 - recall: 0.7283\n",
            "Epoch 20/20\n",
            "170/170 [==============================] - 1s 4ms/step - loss: 0.3744 - accuracy: 0.8121 - precision: 0.6055 - recall: 0.7334\n",
            "classification threshold:  0.52\n",
            "Epoch 1/20\n",
            "WARNING:tensorflow:Layers in a Sequential model should only have a single input tensor, but we receive a <class 'dict'> input: {'longitude': <tf.Tensor 'ExpandDims_3:0' shape=(100, 1) dtype=float32>, 'latitude': <tf.Tensor 'ExpandDims_2:0' shape=(100, 1) dtype=float32>, 'housing_median_age': <tf.Tensor 'ExpandDims_1:0' shape=(100, 1) dtype=float32>, 'total_rooms': <tf.Tensor 'ExpandDims_8:0' shape=(100, 1) dtype=float32>, 'total_bedrooms': <tf.Tensor 'ExpandDims_7:0' shape=(100, 1) dtype=float32>, 'population': <tf.Tensor 'ExpandDims_6:0' shape=(100, 1) dtype=float32>, 'households': <tf.Tensor 'ExpandDims:0' shape=(100, 1) dtype=float32>, 'median_income': <tf.Tensor 'ExpandDims_5:0' shape=(100, 1) dtype=float32>, 'median_house_value': <tf.Tensor 'ExpandDims_4:0' shape=(100, 1) dtype=float32>}\n",
            "Consider rewriting this model with the Functional API.\n",
            "WARNING:tensorflow:Layers in a Sequential model should only have a single input tensor, but we receive a <class 'dict'> input: {'longitude': <tf.Tensor 'ExpandDims_3:0' shape=(100, 1) dtype=float32>, 'latitude': <tf.Tensor 'ExpandDims_2:0' shape=(100, 1) dtype=float32>, 'housing_median_age': <tf.Tensor 'ExpandDims_1:0' shape=(100, 1) dtype=float32>, 'total_rooms': <tf.Tensor 'ExpandDims_8:0' shape=(100, 1) dtype=float32>, 'total_bedrooms': <tf.Tensor 'ExpandDims_7:0' shape=(100, 1) dtype=float32>, 'population': <tf.Tensor 'ExpandDims_6:0' shape=(100, 1) dtype=float32>, 'households': <tf.Tensor 'ExpandDims:0' shape=(100, 1) dtype=float32>, 'median_income': <tf.Tensor 'ExpandDims_5:0' shape=(100, 1) dtype=float32>, 'median_house_value': <tf.Tensor 'ExpandDims_4:0' shape=(100, 1) dtype=float32>}\n",
            "Consider rewriting this model with the Functional API.\n",
            "170/170 [==============================] - 1s 4ms/step - loss: 0.6637 - accuracy: 0.7158 - precision: 0.2378 - recall: 0.0679\n",
            "Epoch 2/20\n",
            "170/170 [==============================] - 1s 4ms/step - loss: 0.5734 - accuracy: 0.7480 - precision: 0.4437 - recall: 0.0258\n",
            "Epoch 3/20\n",
            "170/170 [==============================] - 1s 4ms/step - loss: 0.5159 - accuracy: 0.7545 - precision: 0.7643 - recall: 0.0541\n",
            "Epoch 4/20\n",
            "170/170 [==============================] - 1s 4ms/step - loss: 0.4810 - accuracy: 0.7635 - precision: 0.8542 - recall: 0.0937\n",
            "Epoch 5/20\n",
            "170/170 [==============================] - 1s 4ms/step - loss: 0.4561 - accuracy: 0.7796 - precision: 0.9213 - recall: 0.1456\n",
            "Epoch 6/20\n",
            "170/170 [==============================] - 1s 4ms/step - loss: 0.4322 - accuracy: 0.8022 - precision: 0.9308 - recall: 0.2261\n",
            "Epoch 7/20\n",
            "170/170 [==============================] - 1s 4ms/step - loss: 0.4145 - accuracy: 0.8176 - precision: 0.9247 - recall: 0.2917\n",
            "Epoch 8/20\n",
            "170/170 [==============================] - 1s 4ms/step - loss: 0.3999 - accuracy: 0.8276 - precision: 0.9086 - recall: 0.3334\n",
            "Epoch 9/20\n",
            "170/170 [==============================] - 1s 4ms/step - loss: 0.3850 - accuracy: 0.8426 - precision: 0.9067 - recall: 0.3965\n",
            "Epoch 10/20\n",
            "170/170 [==============================] - 1s 4ms/step - loss: 0.3810 - accuracy: 0.8406 - precision: 0.8786 - recall: 0.4075\n",
            "Epoch 11/20\n",
            "170/170 [==============================] - 1s 4ms/step - loss: 0.3803 - accuracy: 0.8404 - precision: 0.8374 - recall: 0.4474\n",
            "Epoch 12/20\n",
            "170/170 [==============================] - 1s 4ms/step - loss: 0.3709 - accuracy: 0.8465 - precision: 0.8316 - recall: 0.4716\n",
            "Epoch 13/20\n",
            "170/170 [==============================] - 1s 4ms/step - loss: 0.3771 - accuracy: 0.8428 - precision: 0.8273 - recall: 0.4760\n",
            "Epoch 14/20\n",
            "170/170 [==============================] - 1s 4ms/step - loss: 0.3737 - accuracy: 0.8459 - precision: 0.8106 - recall: 0.4992\n",
            "Epoch 15/20\n",
            "170/170 [==============================] - 1s 4ms/step - loss: 0.3701 - accuracy: 0.8456 - precision: 0.8048 - recall: 0.5047\n",
            "Epoch 16/20\n",
            "170/170 [==============================] - 1s 5ms/step - loss: 0.3657 - accuracy: 0.8486 - precision: 0.8054 - recall: 0.5106\n",
            "Epoch 17/20\n",
            "170/170 [==============================] - 1s 4ms/step - loss: 0.3765 - accuracy: 0.8428 - precision: 0.7926 - recall: 0.5063\n",
            "Epoch 18/20\n",
            "170/170 [==============================] - 1s 4ms/step - loss: 0.3730 - accuracy: 0.8436 - precision: 0.8060 - recall: 0.5071\n",
            "Epoch 19/20\n",
            "170/170 [==============================] - 1s 4ms/step - loss: 0.3632 - accuracy: 0.8504 - precision: 0.8020 - recall: 0.5191\n",
            "Epoch 20/20\n",
            "170/170 [==============================] - 1s 5ms/step - loss: 0.3709 - accuracy: 0.8469 - precision: 0.7936 - recall: 0.5108\n",
            "classification threshold:  0.52\n",
            "Epoch 1/20\n",
            "WARNING:tensorflow:Layers in a Sequential model should only have a single input tensor, but we receive a <class 'dict'> input: {'longitude': <tf.Tensor 'ExpandDims_3:0' shape=(100, 1) dtype=float32>, 'latitude': <tf.Tensor 'ExpandDims_2:0' shape=(100, 1) dtype=float32>, 'housing_median_age': <tf.Tensor 'ExpandDims_1:0' shape=(100, 1) dtype=float32>, 'total_rooms': <tf.Tensor 'ExpandDims_8:0' shape=(100, 1) dtype=float32>, 'total_bedrooms': <tf.Tensor 'ExpandDims_7:0' shape=(100, 1) dtype=float32>, 'population': <tf.Tensor 'ExpandDims_6:0' shape=(100, 1) dtype=float32>, 'households': <tf.Tensor 'ExpandDims:0' shape=(100, 1) dtype=float32>, 'median_income': <tf.Tensor 'ExpandDims_5:0' shape=(100, 1) dtype=float32>, 'median_house_value': <tf.Tensor 'ExpandDims_4:0' shape=(100, 1) dtype=float32>}\n",
            "Consider rewriting this model with the Functional API.\n",
            "WARNING:tensorflow:Layers in a Sequential model should only have a single input tensor, but we receive a <class 'dict'> input: {'longitude': <tf.Tensor 'ExpandDims_3:0' shape=(100, 1) dtype=float32>, 'latitude': <tf.Tensor 'ExpandDims_2:0' shape=(100, 1) dtype=float32>, 'housing_median_age': <tf.Tensor 'ExpandDims_1:0' shape=(100, 1) dtype=float32>, 'total_rooms': <tf.Tensor 'ExpandDims_8:0' shape=(100, 1) dtype=float32>, 'total_bedrooms': <tf.Tensor 'ExpandDims_7:0' shape=(100, 1) dtype=float32>, 'population': <tf.Tensor 'ExpandDims_6:0' shape=(100, 1) dtype=float32>, 'households': <tf.Tensor 'ExpandDims:0' shape=(100, 1) dtype=float32>, 'median_income': <tf.Tensor 'ExpandDims_5:0' shape=(100, 1) dtype=float32>, 'median_house_value': <tf.Tensor 'ExpandDims_4:0' shape=(100, 1) dtype=float32>}\n",
            "Consider rewriting this model with the Functional API.\n",
            "170/170 [==============================] - 1s 4ms/step - loss: 0.7195 - accuracy: 0.7509 - precision: 0.3081 - recall: 7.7848e-04\n",
            "Epoch 2/20\n",
            "170/170 [==============================] - 1s 4ms/step - loss: 0.6056 - accuracy: 0.7487 - precision: 0.3079 - recall: 4.8783e-04\n",
            "Epoch 3/20\n",
            "170/170 [==============================] - 1s 4ms/step - loss: 0.5273 - accuracy: 0.7546 - precision: 0.5599 - recall: 0.0015\n",
            "Epoch 4/20\n",
            "170/170 [==============================] - 1s 4ms/step - loss: 0.4828 - accuracy: 0.7514 - precision: 0.7802 - recall: 0.0041\n",
            "Epoch 5/20\n",
            "170/170 [==============================] - 1s 4ms/step - loss: 0.4560 - accuracy: 0.7514 - precision: 0.9813 - recall: 0.0205\n",
            "Epoch 6/20\n",
            "170/170 [==============================] - 1s 4ms/step - loss: 0.4351 - accuracy: 0.7580 - precision: 0.9758 - recall: 0.0364\n",
            "Epoch 7/20\n",
            "170/170 [==============================] - 1s 4ms/step - loss: 0.4156 - accuracy: 0.7688 - precision: 0.9849 - recall: 0.0725\n",
            "Epoch 8/20\n",
            "170/170 [==============================] - 1s 4ms/step - loss: 0.4052 - accuracy: 0.7730 - precision: 0.9878 - recall: 0.0936\n",
            "Epoch 9/20\n",
            "170/170 [==============================] - 1s 5ms/step - loss: 0.3909 - accuracy: 0.7831 - precision: 0.9853 - recall: 0.1294\n",
            "Epoch 10/20\n",
            "170/170 [==============================] - 1s 4ms/step - loss: 0.3890 - accuracy: 0.7881 - precision: 0.9827 - recall: 0.1621\n",
            "Epoch 11/20\n",
            "170/170 [==============================] - 1s 4ms/step - loss: 0.3824 - accuracy: 0.7938 - precision: 0.9810 - recall: 0.1849\n",
            "Epoch 12/20\n",
            "170/170 [==============================] - 1s 4ms/step - loss: 0.3814 - accuracy: 0.7982 - precision: 0.9581 - recall: 0.1918\n",
            "Epoch 13/20\n",
            "170/170 [==============================] - 1s 4ms/step - loss: 0.3708 - accuracy: 0.8064 - precision: 0.9665 - recall: 0.2157\n",
            "Epoch 14/20\n",
            "170/170 [==============================] - 1s 4ms/step - loss: 0.3741 - accuracy: 0.8070 - precision: 0.9649 - recall: 0.2389\n",
            "Epoch 15/20\n",
            "170/170 [==============================] - 1s 4ms/step - loss: 0.3678 - accuracy: 0.8117 - precision: 0.9580 - recall: 0.2416\n",
            "Epoch 16/20\n",
            "170/170 [==============================] - 1s 4ms/step - loss: 0.3662 - accuracy: 0.8126 - precision: 0.9663 - recall: 0.2541\n",
            "Epoch 17/20\n",
            "170/170 [==============================] - 1s 4ms/step - loss: 0.3674 - accuracy: 0.8122 - precision: 0.9686 - recall: 0.2593\n",
            "Epoch 18/20\n",
            "170/170 [==============================] - 1s 4ms/step - loss: 0.3700 - accuracy: 0.8175 - precision: 0.9587 - recall: 0.2597\n",
            "Epoch 19/20\n",
            "170/170 [==============================] - 1s 4ms/step - loss: 0.3722 - accuracy: 0.8166 - precision: 0.9668 - recall: 0.2571\n",
            "Epoch 20/20\n",
            "170/170 [==============================] - 1s 4ms/step - loss: 0.3751 - accuracy: 0.8135 - precision: 0.9630 - recall: 0.2560\n"
          ],
          "name": "stdout"
        },
        {
          "output_type": "display_data",
          "data": {
            "image/png": "[encoded data removed]",
            "text/plain": [
              "<Figure size 432x288 with 1 Axes>"
            ]
          },
          "metadata": {
            "tags": [],
            "needs_background": "light"
          }
        },
        {
          "output_type": "display_data",
          "data": {
            "image/png": "[encoded data removed]",
            "text/plain": [
              "<Figure size 432x288 with 1 Axes>"
            ]
          },
          "metadata": {
            "tags": [],
            "needs_background": "light"
          }
        },
        {
          "output_type": "display_data",
          "data": {
            "image/png": "[encoded data removed]",
            "text/plain": [
              "<Figure size 432x288 with 1 Axes>"
            ]
          },
          "metadata": {
            "tags": [],
            "needs_background": "light"
          }
        }
      ]
    },
    {
      "cell_type": "markdown",
      "metadata": {
        "id": "oydQMHxeozrK"
      },
      "source": [
        "**Observation**: \n",
        "* A `classification_threshold` of slightly over 0.5 appears to produce the highest accuracy (about 84%).\n",
        "* Raising the `classification_threshold` to 0.9 drops accuracy by about 4%. \n",
        "* Lowering `classification_threshold` to 0.3 drops accuracy by  about 4%. "
      ]
    },
    {
      "cell_type": "markdown",
      "metadata": {
        "id": "XBGRS0Ndduus"
      },
      "source": [
        "## Task 4: Summarize the model performance using **AUC**"
      ]
    },
    {
      "cell_type": "code",
      "metadata": {
        "id": "vwNE6syoFvWe",
        "colab": {
          "base_uri": "https://localhost:8080/",
          "height": 1000
        },
        "outputId": "1db4d5e8-3818-49ef-c773-c9f0ac966289"
      },
      "source": [
        "# Set the hyperparameters.\n",
        "learning_rate = 0.001\n",
        "epochs = 20\n",
        "batch_size = 100\n",
        "label_name = \"median_house_value_is_high\"\n",
        "\n",
        "# AUC is a reasonable \"summary\" metric for classification models.\n",
        "METRICS = [tf.keras.metrics.AUC(name='auc', num_thresholds=100)]\n",
        "\n",
        "# Establish the model's topography.\n",
        "my_model = create_model(learning_rate, feature_layer, METRICS)\n",
        "\n",
        "# Train the model on the training set.\n",
        "epochs, hist = train_model(my_model, train_df_norm, epochs, \n",
        "                           label_name, batch_size)\n",
        "\n",
        "# Plot metric vs. epochs\n",
        "list_of_metrics_to_plot = ['auc'] \n",
        "plot_curve(epochs, hist, list_of_metrics_to_plot)"
      ],
      "execution_count": null,
      "outputs": [
        {
          "output_type": "stream",
          "text": [
            "Epoch 1/20\n",
            "WARNING:tensorflow:Layers in a Sequential model should only have a single input tensor, but we receive a <class 'dict'> input: {'longitude': <tf.Tensor 'ExpandDims_3:0' shape=(100, 1) dtype=float32>, 'latitude': <tf.Tensor 'ExpandDims_2:0' shape=(100, 1) dtype=float32>, 'housing_median_age': <tf.Tensor 'ExpandDims_1:0' shape=(100, 1) dtype=float32>, 'total_rooms': <tf.Tensor 'ExpandDims_8:0' shape=(100, 1) dtype=float32>, 'total_bedrooms': <tf.Tensor 'ExpandDims_7:0' shape=(100, 1) dtype=float32>, 'population': <tf.Tensor 'ExpandDims_6:0' shape=(100, 1) dtype=float32>, 'households': <tf.Tensor 'ExpandDims:0' shape=(100, 1) dtype=float32>, 'median_income': <tf.Tensor 'ExpandDims_5:0' shape=(100, 1) dtype=float32>, 'median_house_value': <tf.Tensor 'ExpandDims_4:0' shape=(100, 1) dtype=float32>}\n",
            "Consider rewriting this model with the Functional API.\n",
            "WARNING:tensorflow:Layers in a Sequential model should only have a single input tensor, but we receive a <class 'dict'> input: {'longitude': <tf.Tensor 'ExpandDims_3:0' shape=(100, 1) dtype=float32>, 'latitude': <tf.Tensor 'ExpandDims_2:0' shape=(100, 1) dtype=float32>, 'housing_median_age': <tf.Tensor 'ExpandDims_1:0' shape=(100, 1) dtype=float32>, 'total_rooms': <tf.Tensor 'ExpandDims_8:0' shape=(100, 1) dtype=float32>, 'total_bedrooms': <tf.Tensor 'ExpandDims_7:0' shape=(100, 1) dtype=float32>, 'population': <tf.Tensor 'ExpandDims_6:0' shape=(100, 1) dtype=float32>, 'households': <tf.Tensor 'ExpandDims:0' shape=(100, 1) dtype=float32>, 'median_income': <tf.Tensor 'ExpandDims_5:0' shape=(100, 1) dtype=float32>, 'median_house_value': <tf.Tensor 'ExpandDims_4:0' shape=(100, 1) dtype=float32>}\n",
            "Consider rewriting this model with the Functional API.\n",
            "170/170 [==============================] - 1s 3ms/step - loss: 0.6874 - auc: 0.5855\n",
            "Epoch 2/20\n",
            "170/170 [==============================] - 1s 3ms/step - loss: 0.5793 - auc: 0.7872\n",
            "Epoch 3/20\n",
            "170/170 [==============================] - 1s 3ms/step - loss: 0.5064 - auc: 0.8365\n",
            "Epoch 4/20\n",
            "170/170 [==============================] - 1s 4ms/step - loss: 0.4622 - auc: 0.8523\n",
            "Epoch 5/20\n",
            "170/170 [==============================] - 1s 4ms/step - loss: 0.4392 - auc: 0.8597\n",
            "Epoch 6/20\n",
            "170/170 [==============================] - 1s 4ms/step - loss: 0.4143 - auc: 0.8607\n",
            "Epoch 7/20\n",
            "170/170 [==============================] - 1s 3ms/step - loss: 0.4064 - auc: 0.8615\n",
            "Epoch 8/20\n",
            "170/170 [==============================] - 1s 3ms/step - loss: 0.3974 - auc: 0.8541\n",
            "Epoch 9/20\n",
            "170/170 [==============================] - 1s 4ms/step - loss: 0.3880 - auc: 0.8607\n",
            "Epoch 10/20\n",
            "170/170 [==============================] - 1s 3ms/step - loss: 0.3889 - auc: 0.8557\n",
            "Epoch 11/20\n",
            "170/170 [==============================] - 1s 3ms/step - loss: 0.3794 - auc: 0.8575\n",
            "Epoch 12/20\n",
            "170/170 [==============================] - 1s 4ms/step - loss: 0.3738 - auc: 0.8637\n",
            "Epoch 13/20\n",
            "170/170 [==============================] - 1s 4ms/step - loss: 0.3753 - auc: 0.8595\n",
            "Epoch 14/20\n",
            "170/170 [==============================] - 1s 3ms/step - loss: 0.3741 - auc: 0.8590\n",
            "Epoch 15/20\n",
            "170/170 [==============================] - 1s 4ms/step - loss: 0.3782 - auc: 0.8537\n",
            "Epoch 16/20\n",
            "170/170 [==============================] - 1s 4ms/step - loss: 0.3711 - auc: 0.8604\n",
            "Epoch 17/20\n",
            "170/170 [==============================] - 1s 3ms/step - loss: 0.3749 - auc: 0.8582\n",
            "Epoch 18/20\n",
            "170/170 [==============================] - 1s 3ms/step - loss: 0.3707 - auc: 0.8634\n",
            "Epoch 19/20\n",
            "170/170 [==============================] - 1s 3ms/step - loss: 0.3753 - auc: 0.8565\n",
            "Epoch 20/20\n",
            "170/170 [==============================] - 1s 4ms/step - loss: 0.3693 - auc: 0.8660\n"
          ],
          "name": "stdout"
        },
        {
          "output_type": "display_data",
          "data": {
            "image/png": "[encoded data removed]",
            "text/plain": [
              "<Figure size 432x288 with 1 Axes>"
            ]
          },
          "metadata": {
            "tags": [],
            "needs_background": "light"
          }
        }
      ]
    }
  ]
}