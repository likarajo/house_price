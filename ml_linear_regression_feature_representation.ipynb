{
  "nbformat": 4,
  "nbformat_minor": 0,
  "metadata": {
    "colab": {
      "name": "ml_linear-regression_feature-representation.ipynb",
      "provenance": [],
      "collapsed_sections": []
    },
    "kernelspec": {
      "name": "python3",
      "display_name": "Python 3"
    },
    "accelerator": "GPU"
  },
  "cells": [
    {
      "cell_type": "markdown",
      "metadata": {
        "id": "f7bUeYUk_soE"
      },
      "source": [
        "# Predict California Housing price"
      ]
    },
    {
      "cell_type": "markdown",
      "metadata": {
        "id": "D7qWHsx1_zF2"
      },
      "source": [
        "## Import libraries and packages"
      ]
    },
    {
      "cell_type": "code",
      "metadata": {
        "id": "9n9_cTveKmse",
        "colab": {
          "base_uri": "https://localhost:8080/"
        },
        "outputId": "daf8d1a3-bef5-44ce-ebe7-40735253f32f"
      },
      "source": [
        "import numpy as np\n",
        "\n",
        "import pandas as pd\n",
        "# adjust the granularity of reporting.\n",
        "pd.options.display.max_rows = 10\n",
        "pd.options.display.float_format = \"{:.1f}\".format\n",
        "\n",
        "# set appropriate tensorflow version\n",
        "%tensorflow_version 2.x\n",
        "import tensorflow as tf\n",
        "tf.keras.backend.set_floatx('float32')\n",
        "\n",
        "from tensorflow import feature_column\n",
        "from tensorflow.keras import layers\n",
        "\n",
        "from matplotlib import pyplot as plt\n",
        "\n",
        "print(\"Imported the modules.\")"
      ],
      "execution_count": null,
      "outputs": [
        {
          "output_type": "stream",
          "text": [
            "Imported the modules.\n"
          ],
          "name": "stdout"
        }
      ]
    },
    {
      "cell_type": "markdown",
      "metadata": {
        "id": "X_TaJhU4KcuY"
      },
      "source": [
        "## Get Data\n",
        "  \n",
        "* **Load** the [California Housing Dataset](https://developers.google.com/machine-learning/crash-course/california-housing-data-description).\n",
        "  * train_df: training set\n",
        "  * test_df: test set\n",
        "* **Scale** the label *median_house_value* to a more human-friendly range.\n",
        "* **Shuffle** the training examples."
      ]
    },
    {
      "cell_type": "code",
      "metadata": {
        "id": "JZlvdpyYKx7V"
      },
      "source": [
        "# Load the dataset\n",
        "train_df = pd.read_csv(\"https://download.mlcc.google.com/mledu-datasets/california_housing_train.csv\")\n",
        "test_df = pd.read_csv(\"https://download.mlcc.google.com/mledu-datasets/california_housing_test.csv\")\n",
        "\n",
        "# Scale the labels\n",
        "scale_factor = 1000.0\n",
        "train_df[\"median_house_value\"] /= scale_factor \n",
        "test_df[\"median_house_value\"] /= scale_factor\n",
        "\n",
        "# Shuffle the training examples\n",
        "train_df = train_df.reindex(np.random.permutation(train_df.index))"
      ],
      "execution_count": null,
      "outputs": []
    },
    {
      "cell_type": "markdown",
      "metadata": {
        "id": "8kir8UTUXSV8"
      },
      "source": [
        "## Preprocess: Data Representation \n",
        "\n",
        "Represent feature columns - *single feature*, *single feature cross*, or *single synthetic feature* in the desired way:\n",
        "  * As floating-point values: [`tf.feature_column.numeric_column`](https://www.tensorflow.org/api_docs/python/tf/feature_column/numeric_column). \n",
        "  * As a series of buckets or bins: [`tf.feature_column.bucketized_column`](https://www.tensorflow.org/api_docs/python/tf/feature_column/bucketized_column).\n",
        "  * Assemble the created representations into a list or array. \n"
      ]
    },
    {
      "cell_type": "markdown",
      "metadata": {
        "id": "3014ezH3C7jT"
      },
      "source": [
        "## Define required functions\n",
        "* *create_model*: builds a linear regression model that uses the feature representations for traning.\n",
        "* *train_model*: trains the model.\n",
        "* *plot_loss*: generates the loss curve."
      ]
    },
    {
      "cell_type": "code",
      "metadata": {
        "id": "pedD5GhlDC-y",
        "colab": {
          "base_uri": "https://localhost:8080/"
        },
        "outputId": "e24e5aa1-6b03-4384-8f05-9a2630db384c"
      },
      "source": [
        "def create_model(lr, features):\n",
        "  # sequential layering\n",
        "  model = tf.keras.models.Sequential() \n",
        "  # layers\n",
        "  model.add(features) # feature columns\n",
        "  model.add(tf.keras.layers.Dense(units=1, input_shape=(1,))) # linear regression\n",
        "  # compiling\n",
        "  model.compile(\n",
        "      loss=\"mean_squared_error\",\n",
        "      metrics=[tf.keras.metrics.RootMeanSquaredError()],\n",
        "      optimizer=tf.keras.optimizers.RMSprop(lr=lr)\n",
        "  )\n",
        "  return model           \n",
        "\n",
        "def train_model(model, dataset, epochs, batch_size, label_column):\n",
        "  # creast the dataset dictionary\n",
        "  features = {name:np.array(value) for name, value in dataset.items()} \n",
        "  # extract the label column\n",
        "  label = np.array(features.pop(label_column))\n",
        "  # train the model\n",
        "  history = model.fit(\n",
        "      x=features, \n",
        "      y=label, \n",
        "      batch_size=batch_size,\n",
        "      epochs=epochs, \n",
        "      shuffle=True\n",
        "  )\n",
        "  # list of epochs\n",
        "  epochs = history.epoch\n",
        "  # mean absolute error for each epoch\n",
        "  hist = pd.DataFrame(history.history)\n",
        "  rmse = hist[\"root_mean_squared_error\"]\n",
        "  return epochs, rmse   \n",
        "\n",
        "def plot_loss(epochs, rmse):\n",
        "  plt.figure()\n",
        "  plt.xlabel(\"Epoch\")\n",
        "  plt.ylabel(\"Root Mean Squared Error\")\n",
        "  plt.plot(epochs, rmse, label=\"Loss\")\n",
        "  plt.legend()\n",
        "  plt.ylim([rmse.min()*0.94, rmse.max()* 1.05])\n",
        "  plt.show()  \n",
        "\n",
        "print(\"Defined functions.\")"
      ],
      "execution_count": null,
      "outputs": [
        {
          "output_type": "stream",
          "text": [
            "Defined functions.\n"
          ],
          "name": "stdout"
        }
      ]
    },
    {
      "cell_type": "markdown",
      "metadata": {
        "id": "D-IXYVfvM4gD"
      },
      "source": [
        "## Task 1: Represent *latitude* and *longitude* as **Floating point numbers**\n",
        "\n",
        "* Convert to *floating-point* using `tf.feature_column.numeric_column`"
      ]
    },
    {
      "cell_type": "code",
      "metadata": {
        "id": "nj3v5EKQFY8s",
        "cellView": "both",
        "colab": {
          "base_uri": "https://localhost:8080/",
          "height": 1000
        },
        "outputId": "5642920e-84f3-442f-d6df-a41e4cbfdfc8"
      },
      "source": [
        "# Feature representation: floating-point\n",
        "\n",
        "# To Floating-point\n",
        "latitude = tf.feature_column.numeric_column(\"latitude\")\n",
        "longitude = tf.feature_column.numeric_column(\"longitude\")\n",
        "\n",
        "# Create layer for the model\n",
        "feature_columns = []\n",
        "feature_columns.append(latitude)\n",
        "feature_columns.append(longitude)\n",
        "fp_feature_layer = layers.DenseFeatures(feature_columns)\n",
        "\n",
        "# Set Hyperparameters\n",
        "lr = 0.05\n",
        "epochs = 30\n",
        "batch_size = 100\n",
        "\n",
        "label_column='median_house_value'\n",
        "\n",
        "# Build the model passing in the fp_feature_layer\n",
        "my_model = create_model(lr, fp_feature_layer)\n",
        "\n",
        "# Train the Model on the training set.\n",
        "epochs, rmse = train_model(my_model, train_df, epochs, batch_size, label_column)\n",
        "\n",
        "# Plot the loss curve\n",
        "plot_loss(epochs, rmse)\n",
        "\n",
        "# Evaluate the model\n",
        "test_features = {name:np.array(value) for name, value in test_df.items()}\n",
        "test_label = np.array(test_features.pop(label_column))\n",
        "my_model.evaluate(x=test_features, y=test_label, batch_size=batch_size)"
      ],
      "execution_count": null,
      "outputs": [
        {
          "output_type": "stream",
          "text": [
            "Epoch 1/30\n",
            "WARNING:tensorflow:Layers in a Sequential model should only have a single input tensor, but we receive a <class 'dict'> input: {'longitude': <tf.Tensor 'ExpandDims_3:0' shape=(100, 1) dtype=float32>, 'latitude': <tf.Tensor 'ExpandDims_2:0' shape=(100, 1) dtype=float32>, 'housing_median_age': <tf.Tensor 'ExpandDims_1:0' shape=(100, 1) dtype=float32>, 'total_rooms': <tf.Tensor 'ExpandDims_7:0' shape=(100, 1) dtype=float32>, 'total_bedrooms': <tf.Tensor 'ExpandDims_6:0' shape=(100, 1) dtype=float32>, 'population': <tf.Tensor 'ExpandDims_5:0' shape=(100, 1) dtype=float32>, 'households': <tf.Tensor 'ExpandDims:0' shape=(100, 1) dtype=float32>, 'median_income': <tf.Tensor 'ExpandDims_4:0' shape=(100, 1) dtype=float32>}\n",
            "Consider rewriting this model with the Functional API.\n",
            "WARNING:tensorflow:Layers in a Sequential model should only have a single input tensor, but we receive a <class 'dict'> input: {'longitude': <tf.Tensor 'ExpandDims_3:0' shape=(100, 1) dtype=float32>, 'latitude': <tf.Tensor 'ExpandDims_2:0' shape=(100, 1) dtype=float32>, 'housing_median_age': <tf.Tensor 'ExpandDims_1:0' shape=(100, 1) dtype=float32>, 'total_rooms': <tf.Tensor 'ExpandDims_7:0' shape=(100, 1) dtype=float32>, 'total_bedrooms': <tf.Tensor 'ExpandDims_6:0' shape=(100, 1) dtype=float32>, 'population': <tf.Tensor 'ExpandDims_5:0' shape=(100, 1) dtype=float32>, 'households': <tf.Tensor 'ExpandDims:0' shape=(100, 1) dtype=float32>, 'median_income': <tf.Tensor 'ExpandDims_4:0' shape=(100, 1) dtype=float32>}\n",
            "Consider rewriting this model with the Functional API.\n",
            "170/170 [==============================] - 1s 2ms/step - loss: 19133.5999 - root_mean_squared_error: 136.7634\n",
            "Epoch 2/30\n",
            "170/170 [==============================] - 0s 2ms/step - loss: 13658.9249 - root_mean_squared_error: 116.8685\n",
            "Epoch 3/30\n",
            "170/170 [==============================] - 0s 2ms/step - loss: 13283.1258 - root_mean_squared_error: 115.2291\n",
            "Epoch 4/30\n",
            "170/170 [==============================] - 0s 2ms/step - loss: 13509.4472 - root_mean_squared_error: 116.2182\n",
            "Epoch 5/30\n",
            "170/170 [==============================] - 0s 2ms/step - loss: 13312.6627 - root_mean_squared_error: 115.3701\n",
            "Epoch 6/30\n",
            "170/170 [==============================] - 0s 2ms/step - loss: 13201.8261 - root_mean_squared_error: 114.8966\n",
            "Epoch 7/30\n",
            "170/170 [==============================] - 0s 2ms/step - loss: 13414.3300 - root_mean_squared_error: 115.8153\n",
            "Epoch 8/30\n",
            "170/170 [==============================] - 0s 2ms/step - loss: 13410.8969 - root_mean_squared_error: 115.8023\n",
            "Epoch 9/30\n",
            "170/170 [==============================] - 0s 2ms/step - loss: 13243.2202 - root_mean_squared_error: 115.0755\n",
            "Epoch 10/30\n",
            "170/170 [==============================] - 0s 2ms/step - loss: 13547.4998 - root_mean_squared_error: 116.3838\n",
            "Epoch 11/30\n",
            "170/170 [==============================] - 0s 2ms/step - loss: 13043.1569 - root_mean_squared_error: 114.2003\n",
            "Epoch 12/30\n",
            "170/170 [==============================] - 0s 2ms/step - loss: 13041.9628 - root_mean_squared_error: 114.1868\n",
            "Epoch 13/30\n",
            "170/170 [==============================] - 0s 2ms/step - loss: 13057.3668 - root_mean_squared_error: 114.2649\n",
            "Epoch 14/30\n",
            "170/170 [==============================] - 0s 2ms/step - loss: 12983.2469 - root_mean_squared_error: 113.9412\n",
            "Epoch 15/30\n",
            "170/170 [==============================] - 0s 2ms/step - loss: 12873.8474 - root_mean_squared_error: 113.4551\n",
            "Epoch 16/30\n",
            "170/170 [==============================] - 0s 2ms/step - loss: 13183.8426 - root_mean_squared_error: 114.8106\n",
            "Epoch 17/30\n",
            "170/170 [==============================] - 0s 2ms/step - loss: 13231.1686 - root_mean_squared_error: 115.0244\n",
            "Epoch 18/30\n",
            "170/170 [==============================] - 0s 2ms/step - loss: 13192.0151 - root_mean_squared_error: 114.8535\n",
            "Epoch 19/30\n",
            "170/170 [==============================] - 0s 2ms/step - loss: 12709.1765 - root_mean_squared_error: 112.7288\n",
            "Epoch 20/30\n",
            "170/170 [==============================] - 0s 2ms/step - loss: 13001.2729 - root_mean_squared_error: 114.0115\n",
            "Epoch 21/30\n",
            "170/170 [==============================] - 0s 2ms/step - loss: 12979.6336 - root_mean_squared_error: 113.9266\n",
            "Epoch 22/30\n",
            "170/170 [==============================] - 0s 2ms/step - loss: 13018.4446 - root_mean_squared_error: 114.0923\n",
            "Epoch 23/30\n",
            "170/170 [==============================] - 0s 2ms/step - loss: 12995.6494 - root_mean_squared_error: 113.9938\n",
            "Epoch 24/30\n",
            "170/170 [==============================] - 0s 2ms/step - loss: 12847.6187 - root_mean_squared_error: 113.3430\n",
            "Epoch 25/30\n",
            "170/170 [==============================] - 0s 2ms/step - loss: 12784.8474 - root_mean_squared_error: 113.0542\n",
            "Epoch 26/30\n",
            "170/170 [==============================] - 0s 2ms/step - loss: 12900.4176 - root_mean_squared_error: 113.5710\n",
            "Epoch 27/30\n",
            "170/170 [==============================] - 0s 2ms/step - loss: 12892.0832 - root_mean_squared_error: 113.5271\n",
            "Epoch 28/30\n",
            "170/170 [==============================] - 0s 2ms/step - loss: 12822.5667 - root_mean_squared_error: 113.2263\n",
            "Epoch 29/30\n",
            "170/170 [==============================] - 0s 2ms/step - loss: 12886.2232 - root_mean_squared_error: 113.5012\n",
            "Epoch 30/30\n",
            "170/170 [==============================] - 0s 2ms/step - loss: 12662.1549 - root_mean_squared_error: 112.5227\n"
          ],
          "name": "stdout"
        },
        {
          "output_type": "display_data",
          "data": {
            "image/png": "[encoded data removed]",
            "text/plain": [
              "<Figure size 432x288 with 1 Axes>"
            ]
          },
          "metadata": {
            "tags": [],
            "needs_background": "light"
          }
        },
        {
          "output_type": "stream",
          "text": [
            "WARNING:tensorflow:Layers in a Sequential model should only have a single input tensor, but we receive a <class 'dict'> input: {'longitude': <tf.Tensor 'ExpandDims_3:0' shape=(100, 1) dtype=float32>, 'latitude': <tf.Tensor 'ExpandDims_2:0' shape=(100, 1) dtype=float32>, 'housing_median_age': <tf.Tensor 'ExpandDims_1:0' shape=(100, 1) dtype=float32>, 'total_rooms': <tf.Tensor 'ExpandDims_7:0' shape=(100, 1) dtype=float32>, 'total_bedrooms': <tf.Tensor 'ExpandDims_6:0' shape=(100, 1) dtype=float32>, 'population': <tf.Tensor 'ExpandDims_5:0' shape=(100, 1) dtype=float32>, 'households': <tf.Tensor 'ExpandDims:0' shape=(100, 1) dtype=float32>, 'median_income': <tf.Tensor 'ExpandDims_4:0' shape=(100, 1) dtype=float32>}\n",
            "Consider rewriting this model with the Functional API.\n",
            "30/30 [==============================] - 0s 1ms/step - loss: 12279.2734 - root_mean_squared_error: 110.8119\n"
          ],
          "name": "stdout"
        },
        {
          "output_type": "execute_result",
          "data": {
            "text/plain": [
              "[12279.2734375, 110.81188201904297]"
            ]
          },
          "metadata": {
            "tags": []
          },
          "execution_count": 28
        }
      ]
    },
    {
      "cell_type": "markdown",
      "metadata": {
        "id": "0-r3tTkRIy1W"
      },
      "source": [
        "**Floating-point representation** gives a **high RMSE**. Not a good representation."
      ]
    },
    {
      "cell_type": "markdown",
      "metadata": {
        "id": "Na8TPoPYx-0k"
      },
      "source": [
        "## Task 2: Represent *latitude* and *longitude* in **Buckets**\n",
        "\n",
        "**Floating-point** values are **not a good way to represent latitude and longitude** as they do not have much predictive power. We're only using the raw values to establish a baseline for future experiments with better representations.\n",
        "\n",
        "Represents latitude and longitude in **buckets (bins)**, each representing all the neighborhoods within a single degree. \n",
        "* Convert to *floating-point* using `tf.feature_column.numeric_column`\n",
        "* Creates *buckets* using `tf.feature_column.bucketized_column`  \n",
        "\n",
        "The model will **learn a separate weight for each bucket**. \n",
        "\n",
        "\n",
        " \n"
      ]
    },
    {
      "cell_type": "code",
      "metadata": {
        "id": "WLTUFiaUyIpx",
        "colab": {
          "base_uri": "https://localhost:8080/",
          "height": 1000
        },
        "outputId": "b363325e-035f-4cb2-c356-5b5a77193c20"
      },
      "source": [
        "# Feature representation: buckets\n",
        "\n",
        "# To Floating-point\n",
        "latitude_numeric = tf.feature_column.numeric_column(\"latitude\") \n",
        "longitude_numeric = tf.feature_column.numeric_column(\"longitude\")\n",
        "\n",
        "# To Buckets\n",
        "resolution_in_degrees = 1.0\n",
        "latitude_boundaries = list(np.arange(int(min(train_df['latitude'])), int(max(train_df['latitude'])), resolution_in_degrees))\n",
        "longitude_boundaries = list(np.arange(int(min(train_df['longitude'])), int(max(train_df['longitude'])), resolution_in_degrees))\n",
        "latitude = tf.feature_column.bucketized_column(latitude_numeric, latitude_boundaries) # To\n",
        "longitude = tf.feature_column.bucketized_column(longitude_numeric, longitude_boundaries)\n",
        "\n",
        "# Create layer for the model\n",
        "feature_columns = []                                              \n",
        "feature_columns.append(latitude)\n",
        "feature_columns.append(longitude)\n",
        "buckets_feature_layer = layers.DenseFeatures(feature_columns)\n",
        "\n",
        "# Set Hyperparameters\n",
        "lr = 0.05\n",
        "epochs = 30\n",
        "batch_size = 100\n",
        "\n",
        "label_column = 'median_house_value'\n",
        "\n",
        "# Build the model passing in the buckets_feature_layer\n",
        "my_model = create_model(lr, buckets_feature_layer)\n",
        "epochs, rmse = train_model(my_model, train_df, epochs, batch_size, label_column)\n",
        "plot_loss(epochs, rmse)\n",
        "\n",
        "# Evaluate the Model\n",
        "test_features = {name:np.array(value) for name, value in test_df.items()}\n",
        "test_label = np.array(test_features.pop(label_column))\n",
        "my_model.evaluate(x=test_features, y=test_label, batch_size=batch_size)"
      ],
      "execution_count": null,
      "outputs": [
        {
          "output_type": "stream",
          "text": [
            "Epoch 1/30\n",
            "WARNING:tensorflow:Layers in a Sequential model should only have a single input tensor, but we receive a <class 'dict'> input: {'longitude': <tf.Tensor 'ExpandDims_3:0' shape=(100, 1) dtype=float32>, 'latitude': <tf.Tensor 'ExpandDims_2:0' shape=(100, 1) dtype=float32>, 'housing_median_age': <tf.Tensor 'ExpandDims_1:0' shape=(100, 1) dtype=float32>, 'total_rooms': <tf.Tensor 'ExpandDims_7:0' shape=(100, 1) dtype=float32>, 'total_bedrooms': <tf.Tensor 'ExpandDims_6:0' shape=(100, 1) dtype=float32>, 'population': <tf.Tensor 'ExpandDims_5:0' shape=(100, 1) dtype=float32>, 'households': <tf.Tensor 'ExpandDims:0' shape=(100, 1) dtype=float32>, 'median_income': <tf.Tensor 'ExpandDims_4:0' shape=(100, 1) dtype=float32>}\n",
            "Consider rewriting this model with the Functional API.\n",
            "WARNING:tensorflow:Layers in a Sequential model should only have a single input tensor, but we receive a <class 'dict'> input: {'longitude': <tf.Tensor 'ExpandDims_3:0' shape=(100, 1) dtype=float32>, 'latitude': <tf.Tensor 'ExpandDims_2:0' shape=(100, 1) dtype=float32>, 'housing_median_age': <tf.Tensor 'ExpandDims_1:0' shape=(100, 1) dtype=float32>, 'total_rooms': <tf.Tensor 'ExpandDims_7:0' shape=(100, 1) dtype=float32>, 'total_bedrooms': <tf.Tensor 'ExpandDims_6:0' shape=(100, 1) dtype=float32>, 'population': <tf.Tensor 'ExpandDims_5:0' shape=(100, 1) dtype=float32>, 'households': <tf.Tensor 'ExpandDims:0' shape=(100, 1) dtype=float32>, 'median_income': <tf.Tensor 'ExpandDims_4:0' shape=(100, 1) dtype=float32>}\n",
            "Consider rewriting this model with the Functional API.\n",
            "170/170 [==============================] - 1s 2ms/step - loss: 53484.2362 - root_mean_squared_error: 231.2332\n",
            "Epoch 2/30\n",
            "170/170 [==============================] - 0s 2ms/step - loss: 43989.0109 - root_mean_squared_error: 209.7197\n",
            "Epoch 3/30\n",
            "170/170 [==============================] - 0s 2ms/step - loss: 36133.3068 - root_mean_squared_error: 190.0558\n",
            "Epoch 4/30\n",
            "170/170 [==============================] - 0s 2ms/step - loss: 29163.9984 - root_mean_squared_error: 170.7483\n",
            "Epoch 5/30\n",
            "170/170 [==============================] - 0s 2ms/step - loss: 23445.8498 - root_mean_squared_error: 153.1083\n",
            "Epoch 6/30\n",
            "170/170 [==============================] - 0s 2ms/step - loss: 19460.3809 - root_mean_squared_error: 139.4593\n",
            "Epoch 7/30\n",
            "170/170 [==============================] - 0s 2ms/step - loss: 16336.0656 - root_mean_squared_error: 127.7524\n",
            "Epoch 8/30\n",
            "170/170 [==============================] - 0s 2ms/step - loss: 13824.8856 - root_mean_squared_error: 117.5485\n",
            "Epoch 9/30\n",
            "170/170 [==============================] - 0s 2ms/step - loss: 12064.1649 - root_mean_squared_error: 109.8295\n",
            "Epoch 10/30\n",
            "170/170 [==============================] - 0s 2ms/step - loss: 11175.8469 - root_mean_squared_error: 105.7131\n",
            "Epoch 11/30\n",
            "170/170 [==============================] - 0s 2ms/step - loss: 11078.0232 - root_mean_squared_error: 105.2426\n",
            "Epoch 12/30\n",
            "170/170 [==============================] - 0s 2ms/step - loss: 10554.5442 - root_mean_squared_error: 102.7282\n",
            "Epoch 13/30\n",
            "170/170 [==============================] - 0s 2ms/step - loss: 10405.8756 - root_mean_squared_error: 102.0035\n",
            "Epoch 14/30\n",
            "170/170 [==============================] - 0s 2ms/step - loss: 10428.1232 - root_mean_squared_error: 102.1150\n",
            "Epoch 15/30\n",
            "170/170 [==============================] - 0s 2ms/step - loss: 10356.4460 - root_mean_squared_error: 101.7545\n",
            "Epoch 16/30\n",
            "170/170 [==============================] - 0s 2ms/step - loss: 10402.9107 - root_mean_squared_error: 101.9776\n",
            "Epoch 17/30\n",
            "170/170 [==============================] - 0s 2ms/step - loss: 10459.3522 - root_mean_squared_error: 102.2643\n",
            "Epoch 18/30\n",
            "170/170 [==============================] - 0s 2ms/step - loss: 10642.5555 - root_mean_squared_error: 103.1564\n",
            "Epoch 19/30\n",
            "170/170 [==============================] - 0s 2ms/step - loss: 10493.7776 - root_mean_squared_error: 102.4354\n",
            "Epoch 20/30\n",
            "170/170 [==============================] - 0s 2ms/step - loss: 10428.0668 - root_mean_squared_error: 102.1167\n",
            "Epoch 21/30\n",
            "170/170 [==============================] - 0s 2ms/step - loss: 10295.6914 - root_mean_squared_error: 101.4655\n",
            "Epoch 22/30\n",
            "170/170 [==============================] - 0s 2ms/step - loss: 10592.1361 - root_mean_squared_error: 102.9083\n",
            "Epoch 23/30\n",
            "170/170 [==============================] - 0s 2ms/step - loss: 10376.4143 - root_mean_squared_error: 101.8467\n",
            "Epoch 24/30\n",
            "170/170 [==============================] - 0s 2ms/step - loss: 10522.6203 - root_mean_squared_error: 102.5775\n",
            "Epoch 25/30\n",
            "170/170 [==============================] - 0s 2ms/step - loss: 10491.3603 - root_mean_squared_error: 102.4178\n",
            "Epoch 26/30\n",
            "170/170 [==============================] - 0s 2ms/step - loss: 10303.9097 - root_mean_squared_error: 101.4995\n",
            "Epoch 27/30\n",
            "170/170 [==============================] - 0s 2ms/step - loss: 10419.3268 - root_mean_squared_error: 102.0717\n",
            "Epoch 28/30\n",
            "170/170 [==============================] - 0s 2ms/step - loss: 10497.4739 - root_mean_squared_error: 102.4305\n",
            "Epoch 29/30\n",
            "170/170 [==============================] - 0s 2ms/step - loss: 10437.5575 - root_mean_squared_error: 102.1603\n",
            "Epoch 30/30\n",
            "170/170 [==============================] - 0s 2ms/step - loss: 10270.5417 - root_mean_squared_error: 101.3382\n"
          ],
          "name": "stdout"
        },
        {
          "output_type": "display_data",
          "data": {
            "image/png": "[encoded data removed]",
            "text/plain": [
              "<Figure size 432x288 with 1 Axes>"
            ]
          },
          "metadata": {
            "tags": [],
            "needs_background": "light"
          }
        },
        {
          "output_type": "stream",
          "text": [
            "WARNING:tensorflow:Layers in a Sequential model should only have a single input tensor, but we receive a <class 'dict'> input: {'longitude': <tf.Tensor 'ExpandDims_3:0' shape=(100, 1) dtype=float32>, 'latitude': <tf.Tensor 'ExpandDims_2:0' shape=(100, 1) dtype=float32>, 'housing_median_age': <tf.Tensor 'ExpandDims_1:0' shape=(100, 1) dtype=float32>, 'total_rooms': <tf.Tensor 'ExpandDims_7:0' shape=(100, 1) dtype=float32>, 'total_bedrooms': <tf.Tensor 'ExpandDims_6:0' shape=(100, 1) dtype=float32>, 'population': <tf.Tensor 'ExpandDims_5:0' shape=(100, 1) dtype=float32>, 'households': <tf.Tensor 'ExpandDims:0' shape=(100, 1) dtype=float32>, 'median_income': <tf.Tensor 'ExpandDims_4:0' shape=(100, 1) dtype=float32>}\n",
            "Consider rewriting this model with the Functional API.\n",
            "30/30 [==============================] - 0s 2ms/step - loss: 10182.8867 - root_mean_squared_error: 100.9103\n"
          ],
          "name": "stdout"
        },
        {
          "output_type": "execute_result",
          "data": {
            "text/plain": [
              "[10182.88671875, 100.91029357910156]"
            ]
          },
          "metadata": {
            "tags": []
          },
          "execution_count": 29
        }
      ]
    },
    {
      "cell_type": "markdown",
      "metadata": {
        "id": "PLstT5s1Nz4j"
      },
      "source": [
        "**Bucket representation outperformed floating-point representations**. Still **high RMSE**"
      ]
    },
    {
      "cell_type": "markdown",
      "metadata": {
        "id": "ab6-bhUvxbTL"
      },
      "source": [
        "## Task 3: Represent *location* as a **Feature Cross** of bucket representations\n",
        "\n",
        "**Buckets** are a **big improvement over floating-point values**. \n",
        "\n",
        "**Real-world locations**, however, exist in **two dimension**. Therefore, you should represent location as a **two-dimensional feature cross**. \n",
        "\n",
        "**Cross** the 10 or so latitude buckets with the 10 or so longitude buckets to **create a grid** of 100 cells. \n",
        " \n",
        "* Convert to *floating-point* using `tf.feature_column.numeric_column`\n",
        "* Creates *buckets* using `tf.feature_column.bucketized_column`\n",
        "* *Cross* the buckets using `tf.feature_column.crossed_column`\n",
        "\n",
        "The model will **learn separate weights for each of the crosses**."
      ]
    },
    {
      "cell_type": "markdown",
      "metadata": {
        "id": "T1ulCDiyGB6g"
      },
      "source": [
        "\n",
        "\n",
        "\n",
        "\n"
      ]
    },
    {
      "cell_type": "code",
      "metadata": {
        "id": "HunsuEzqn21s",
        "cellView": "both",
        "colab": {
          "base_uri": "https://localhost:8080/",
          "height": 1000
        },
        "outputId": "b21bcbd8-aa7d-4436-8d9e-680e7d7e4083"
      },
      "source": [
        "# Feature represntation: Cross \n",
        "\n",
        "# To Floating-poinbt\n",
        "latitude_numeric = tf.feature_column.numeric_column(\"latitude\")\n",
        "longitude_numeric = tf.feature_column.numeric_column(\"longitude\")\n",
        "\n",
        "# To Buckets\n",
        "resolution_in_degrees = 1.0\n",
        "latitude_boundaries = list(np.arange(int(min(train_df['latitude'])), int(max(train_df['latitude'])), resolution_in_degrees))\n",
        "longitude_boundaries = list(np.arange(int(min(train_df['longitude'])), int(max(train_df['longitude'])), resolution_in_degrees))\n",
        "latitude = tf.feature_column.bucketized_column(latitude_numeric, latitude_boundaries)\n",
        "longitude = tf.feature_column.bucketized_column(longitude_numeric, longitude_boundaries)\n",
        "\n",
        "# Feature Cross\n",
        "latitude_x_longitude = tf.feature_column.crossed_column([latitude, longitude], hash_bucket_size=100)\n",
        "crossed_feature = tf.feature_column.indicator_column(latitude_x_longitude)\n",
        "\n",
        "# Convert the crossed feature into a layer to be fed into the model. \n",
        "feature_columns = []\n",
        "feature_columns.append(crossed_feature)\n",
        "feature_cross_feature_layer = layers.DenseFeatures(feature_columns)\n",
        "\n",
        "# Set Hyperparameters\n",
        "lr = 0.05\n",
        "epochs = 30\n",
        "batch_size = 100\n",
        "\n",
        "label_column = 'median_house_value'\n",
        "\n",
        "# Build the model passing in the feature_cross_feature_layer\n",
        "my_model = create_model(lr, feature_cross_feature_layer)\n",
        "\n",
        "# Train the model on the training set.\n",
        "epochs, rmse = train_model(my_model, train_df, epochs, batch_size, label_column)\n",
        "\n",
        "plot_loss(epochs, rmse)\n",
        "\n",
        "# Evaluate the Model\n",
        "test_features = {name:np.array(value) for name, value in test_df.items()}\n",
        "test_label = np.array(test_features.pop(label_column))\n",
        "my_model.evaluate(x=test_features, y=test_label, batch_size=batch_size)"
      ],
      "execution_count": null,
      "outputs": [
        {
          "output_type": "stream",
          "text": [
            "Epoch 1/30\n",
            "WARNING:tensorflow:Layers in a Sequential model should only have a single input tensor, but we receive a <class 'dict'> input: {'longitude': <tf.Tensor 'ExpandDims_3:0' shape=(100, 1) dtype=float32>, 'latitude': <tf.Tensor 'ExpandDims_2:0' shape=(100, 1) dtype=float32>, 'housing_median_age': <tf.Tensor 'ExpandDims_1:0' shape=(100, 1) dtype=float32>, 'total_rooms': <tf.Tensor 'ExpandDims_7:0' shape=(100, 1) dtype=float32>, 'total_bedrooms': <tf.Tensor 'ExpandDims_6:0' shape=(100, 1) dtype=float32>, 'population': <tf.Tensor 'ExpandDims_5:0' shape=(100, 1) dtype=float32>, 'households': <tf.Tensor 'ExpandDims:0' shape=(100, 1) dtype=float32>, 'median_income': <tf.Tensor 'ExpandDims_4:0' shape=(100, 1) dtype=float32>}\n",
            "Consider rewriting this model with the Functional API.\n",
            "WARNING:tensorflow:Layers in a Sequential model should only have a single input tensor, but we receive a <class 'dict'> input: {'longitude': <tf.Tensor 'ExpandDims_3:0' shape=(100, 1) dtype=float32>, 'latitude': <tf.Tensor 'ExpandDims_2:0' shape=(100, 1) dtype=float32>, 'housing_median_age': <tf.Tensor 'ExpandDims_1:0' shape=(100, 1) dtype=float32>, 'total_rooms': <tf.Tensor 'ExpandDims_7:0' shape=(100, 1) dtype=float32>, 'total_bedrooms': <tf.Tensor 'ExpandDims_6:0' shape=(100, 1) dtype=float32>, 'population': <tf.Tensor 'ExpandDims_5:0' shape=(100, 1) dtype=float32>, 'households': <tf.Tensor 'ExpandDims:0' shape=(100, 1) dtype=float32>, 'median_income': <tf.Tensor 'ExpandDims_4:0' shape=(100, 1) dtype=float32>}\n",
            "Consider rewriting this model with the Functional API.\n",
            "170/170 [==============================] - 1s 2ms/step - loss: 54272.4097 - root_mean_squared_error: 232.9493\n",
            "Epoch 2/30\n",
            "170/170 [==============================] - 0s 2ms/step - loss: 48295.8581 - root_mean_squared_error: 219.7549\n",
            "Epoch 3/30\n",
            "170/170 [==============================] - 0s 2ms/step - loss: 41835.1604 - root_mean_squared_error: 204.5273\n",
            "Epoch 4/30\n",
            "170/170 [==============================] - 0s 2ms/step - loss: 37936.9353 - root_mean_squared_error: 194.7309\n",
            "Epoch 5/30\n",
            "170/170 [==============================] - 0s 2ms/step - loss: 32563.9654 - root_mean_squared_error: 180.4287\n",
            "Epoch 6/30\n",
            "170/170 [==============================] - 0s 3ms/step - loss: 28620.6613 - root_mean_squared_error: 169.1495\n",
            "Epoch 7/30\n",
            "170/170 [==============================] - 0s 3ms/step - loss: 24721.5643 - root_mean_squared_error: 157.2062\n",
            "Epoch 8/30\n",
            "170/170 [==============================] - 0s 3ms/step - loss: 21265.3301 - root_mean_squared_error: 145.7936\n",
            "Epoch 9/30\n",
            "170/170 [==============================] - 0s 2ms/step - loss: 18762.9566 - root_mean_squared_error: 136.9524\n",
            "Epoch 10/30\n",
            "170/170 [==============================] - 0s 2ms/step - loss: 16524.3592 - root_mean_squared_error: 128.5342\n",
            "Epoch 11/30\n",
            "170/170 [==============================] - 0s 2ms/step - loss: 14371.3349 - root_mean_squared_error: 119.8697\n",
            "Epoch 12/30\n",
            "170/170 [==============================] - 0s 2ms/step - loss: 12897.7137 - root_mean_squared_error: 113.5491\n",
            "Epoch 13/30\n",
            "170/170 [==============================] - 0s 2ms/step - loss: 11614.7821 - root_mean_squared_error: 107.7542\n",
            "Epoch 14/30\n",
            "170/170 [==============================] - 0s 2ms/step - loss: 11121.1577 - root_mean_squared_error: 105.4461\n",
            "Epoch 15/30\n",
            "170/170 [==============================] - 0s 3ms/step - loss: 10503.8904 - root_mean_squared_error: 102.4812\n",
            "Epoch 16/30\n",
            "170/170 [==============================] - 0s 2ms/step - loss: 10307.1262 - root_mean_squared_error: 101.5157\n",
            "Epoch 17/30\n",
            "170/170 [==============================] - 0s 2ms/step - loss: 10052.1758 - root_mean_squared_error: 100.2576\n",
            "Epoch 18/30\n",
            "170/170 [==============================] - 0s 2ms/step - loss: 9971.8436 - root_mean_squared_error: 99.8503\n",
            "Epoch 19/30\n",
            "170/170 [==============================] - 0s 2ms/step - loss: 9823.7986 - root_mean_squared_error: 99.1109\n",
            "Epoch 20/30\n",
            "170/170 [==============================] - 0s 2ms/step - loss: 9802.5687 - root_mean_squared_error: 99.0052\n",
            "Epoch 21/30\n",
            "170/170 [==============================] - 0s 2ms/step - loss: 9846.2522 - root_mean_squared_error: 99.2060\n",
            "Epoch 22/30\n",
            "170/170 [==============================] - 0s 2ms/step - loss: 9891.1033 - root_mean_squared_error: 99.4443\n",
            "Epoch 23/30\n",
            "170/170 [==============================] - 0s 2ms/step - loss: 9547.2072 - root_mean_squared_error: 97.7063\n",
            "Epoch 24/30\n",
            "170/170 [==============================] - 0s 2ms/step - loss: 9730.1334 - root_mean_squared_error: 98.6371\n",
            "Epoch 25/30\n",
            "170/170 [==============================] - 0s 3ms/step - loss: 9556.2925 - root_mean_squared_error: 97.7499\n",
            "Epoch 26/30\n",
            "170/170 [==============================] - 0s 2ms/step - loss: 9543.4545 - root_mean_squared_error: 97.6797\n",
            "Epoch 27/30\n",
            "170/170 [==============================] - 0s 3ms/step - loss: 9718.7084 - root_mean_squared_error: 98.5669\n",
            "Epoch 28/30\n",
            "170/170 [==============================] - 0s 2ms/step - loss: 9409.0677 - root_mean_squared_error: 96.9934\n",
            "Epoch 29/30\n",
            "170/170 [==============================] - 0s 2ms/step - loss: 9473.0549 - root_mean_squared_error: 97.3232\n",
            "Epoch 30/30\n",
            "170/170 [==============================] - 0s 3ms/step - loss: 9591.7504 - root_mean_squared_error: 97.9232\n"
          ],
          "name": "stdout"
        },
        {
          "output_type": "display_data",
          "data": {
            "image/png": "[encoded data removed]",
            "text/plain": [
              "<Figure size 432x288 with 1 Axes>"
            ]
          },
          "metadata": {
            "tags": [],
            "needs_background": "light"
          }
        },
        {
          "output_type": "stream",
          "text": [
            "WARNING:tensorflow:Layers in a Sequential model should only have a single input tensor, but we receive a <class 'dict'> input: {'longitude': <tf.Tensor 'ExpandDims_3:0' shape=(100, 1) dtype=float32>, 'latitude': <tf.Tensor 'ExpandDims_2:0' shape=(100, 1) dtype=float32>, 'housing_median_age': <tf.Tensor 'ExpandDims_1:0' shape=(100, 1) dtype=float32>, 'total_rooms': <tf.Tensor 'ExpandDims_7:0' shape=(100, 1) dtype=float32>, 'total_bedrooms': <tf.Tensor 'ExpandDims_6:0' shape=(100, 1) dtype=float32>, 'population': <tf.Tensor 'ExpandDims_5:0' shape=(100, 1) dtype=float32>, 'households': <tf.Tensor 'ExpandDims:0' shape=(100, 1) dtype=float32>, 'median_income': <tf.Tensor 'ExpandDims_4:0' shape=(100, 1) dtype=float32>}\n",
            "Consider rewriting this model with the Functional API.\n",
            "30/30 [==============================] - 0s 2ms/step - loss: 9520.7334 - root_mean_squared_error: 97.5742\n"
          ],
          "name": "stdout"
        },
        {
          "output_type": "execute_result",
          "data": {
            "text/plain": [
              "[9520.7333984375, 97.57424926757812]"
            ]
          },
          "metadata": {
            "tags": []
          },
          "execution_count": 30
        }
      ]
    },
    {
      "cell_type": "markdown",
      "metadata": {
        "id": "hh7ZJ3WRWrBg"
      },
      "source": [
        "**Feature cross reprentation produced much lower loss than bucket represntation**"
      ]
    },
    {
      "cell_type": "markdown",
      "metadata": {
        "id": "J9Iw3ljfXqSQ"
      },
      "source": [
        "## Experimentation: Adjust the **resolution of the feature cross**\n",
        "\n",
        "`resolution_in_degrees` is set to 1.0. Therefore, each cell represents an area of 1.0 degree of latitude by 1.0 degree of longitude, which corresponds to a cell of 110 km by 90 km. This resolution defines a rather **large neighborhood**. \n",
        "\n",
        "Experiment with `resolution_in_degrees`.\n",
        "\n",
        "### Exp 1. What value of `resolution_in_degrees` produces the best results (lowest loss value)?\n",
        "\n",
        "A **resolution of ~0.4 degree** provides the best results.\n",
        "\n",
        "### Exp 2. Why does loss increase when the value of `resolution_in_degrees` drops below a certain value?\n",
        "\n",
        "**Below ~0.4 degree**, loss increases because **the dataset does not contain enough examples in each cell** to accurately predict prices for those cells.\n",
        "\n",
        "### Exp 3. What feature (that does not exist in the California Housing Dataset) would be a better proxy for location than latitude X longitude.\n",
        "\n",
        "***Postal code*** would be a **far better feature** than latitude X longitude, assuming that the dataset contained **sufficient examples in each postal code**.\n"
      ]
    },
    {
      "cell_type": "code",
      "metadata": {
        "id": "G6nds3T6YDUF"
      },
      "source": [
        ""
      ],
      "execution_count": null,
      "outputs": []
    }
  ]
}